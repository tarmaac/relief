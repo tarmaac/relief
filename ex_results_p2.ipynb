{
 "cells": [
  {
   "attachments": {},
   "cell_type": "markdown",
   "metadata": {},
   "source": [
    "# INSTALLING PACKAGES AND IMPORTING LIBRARIES"
   ]
  },
  {
   "cell_type": "code",
   "execution_count": 1,
   "metadata": {},
   "outputs": [
    {
     "name": "stdout",
     "output_type": "stream",
     "text": [
      "Requirement already up-to-date: sentence-transformers in c:\\users\\augus\\appdata\\local\\programs\\python\\python37\\lib\\site-packages (2.2.2)\n",
      "Requirement already satisfied, skipping upgrade: transformers<5.0.0,>=4.6.0 in c:\\users\\augus\\appdata\\local\\programs\\python\\python37\\lib\\site-packages (from sentence-transformers) (4.28.1)\n",
      "Requirement already satisfied, skipping upgrade: tqdm in c:\\users\\augus\\appdata\\local\\programs\\python\\python37\\lib\\site-packages (from sentence-transformers) (4.65.0)\n",
      "Requirement already satisfied, skipping upgrade: torch>=1.6.0 in c:\\users\\augus\\appdata\\local\\programs\\python\\python37\\lib\\site-packages (from sentence-transformers) (1.13.1)\n",
      "Requirement already satisfied, skipping upgrade: torchvision in c:\\users\\augus\\appdata\\local\\programs\\python\\python37\\lib\\site-packages (from sentence-transformers) (0.14.1)\n",
      "Requirement already satisfied, skipping upgrade: numpy in c:\\users\\augus\\appdata\\local\\programs\\python\\python37\\lib\\site-packages (from sentence-transformers) (1.21.6)\n",
      "Requirement already satisfied, skipping upgrade: scikit-learn in c:\\users\\augus\\appdata\\local\\programs\\python\\python37\\lib\\site-packages (from sentence-transformers) (1.0.2)\n",
      "Requirement already satisfied, skipping upgrade: scipy in c:\\users\\augus\\appdata\\local\\programs\\python\\python37\\lib\\site-packages (from sentence-transformers) (1.7.3)\n",
      "Requirement already satisfied, skipping upgrade: nltk in c:\\users\\augus\\appdata\\local\\programs\\python\\python37\\lib\\site-packages (from sentence-transformers) (3.8.1)\n",
      "Requirement already satisfied, skipping upgrade: sentencepiece in c:\\users\\augus\\appdata\\local\\programs\\python\\python37\\lib\\site-packages (from sentence-transformers) (0.1.99)\n",
      "Requirement already satisfied, skipping upgrade: huggingface-hub>=0.4.0 in c:\\users\\augus\\appdata\\local\\programs\\python\\python37\\lib\\site-packages (from sentence-transformers) (0.14.1)\n",
      "Requirement already satisfied, skipping upgrade: importlib-metadata; python_version < \"3.8\" in c:\\users\\augus\\appdata\\local\\programs\\python\\python37\\lib\\site-packages (from transformers<5.0.0,>=4.6.0->sentence-transformers) (6.6.0)\n",
      "Requirement already satisfied, skipping upgrade: filelock in c:\\users\\augus\\appdata\\local\\programs\\python\\python37\\lib\\site-packages (from transformers<5.0.0,>=4.6.0->sentence-transformers) (3.12.0)\n",
      "Requirement already satisfied, skipping upgrade: packaging>=20.0 in c:\\users\\augus\\appdata\\local\\programs\\python\\python37\\lib\\site-packages (from transformers<5.0.0,>=4.6.0->sentence-transformers) (23.1)\n",
      "Requirement already satisfied, skipping upgrade: regex!=2019.12.17 in c:\\users\\augus\\appdata\\local\\programs\\python\\python37\\lib\\site-packages (from transformers<5.0.0,>=4.6.0->sentence-transformers) (2023.5.5)\n",
      "Requirement already satisfied, skipping upgrade: requests in c:\\users\\augus\\appdata\\local\\programs\\python\\python37\\lib\\site-packages (from transformers<5.0.0,>=4.6.0->sentence-transformers) (2.29.0)\n",
      "Requirement already satisfied, skipping upgrade: pyyaml>=5.1 in c:\\users\\augus\\appdata\\local\\programs\\python\\python37\\lib\\site-packages (from transformers<5.0.0,>=4.6.0->sentence-transformers) (6.0)\n",
      "Requirement already satisfied, skipping upgrade: tokenizers!=0.11.3,<0.14,>=0.11.1 in c:\\users\\augus\\appdata\\local\\programs\\python\\python37\\lib\\site-packages (from transformers<5.0.0,>=4.6.0->sentence-transformers) (0.13.3)\n",
      "Requirement already satisfied, skipping upgrade: colorama; platform_system == \"Windows\" in c:\\users\\augus\\appdata\\roaming\\python\\python37\\site-packages (from tqdm->sentence-transformers) (0.4.1)\n",
      "Requirement already satisfied, skipping upgrade: typing-extensions in c:\\users\\augus\\appdata\\local\\programs\\python\\python37\\lib\\site-packages (from torch>=1.6.0->sentence-transformers) (4.5.0)\n",
      "Requirement already satisfied, skipping upgrade: pillow!=8.3.*,>=5.3.0 in c:\\users\\augus\\appdata\\local\\programs\\python\\python37\\lib\\site-packages (from torchvision->sentence-transformers) (9.5.0)\n",
      "Requirement already satisfied, skipping upgrade: joblib>=0.11 in c:\\users\\augus\\appdata\\local\\programs\\python\\python37\\lib\\site-packages (from scikit-learn->sentence-transformers) (1.2.0)\n",
      "Requirement already satisfied, skipping upgrade: threadpoolctl>=2.0.0 in c:\\users\\augus\\appdata\\local\\programs\\python\\python37\\lib\\site-packages (from scikit-learn->sentence-transformers) (3.1.0)\n",
      "Requirement already satisfied, skipping upgrade: click in c:\\users\\augus\\appdata\\local\\programs\\python\\python37\\lib\\site-packages (from nltk->sentence-transformers) (8.1.3)\n",
      "Requirement already satisfied, skipping upgrade: fsspec in c:\\users\\augus\\appdata\\local\\programs\\python\\python37\\lib\\site-packages (from huggingface-hub>=0.4.0->sentence-transformers) (2023.1.0)\n",
      "Requirement already satisfied, skipping upgrade: zipp>=0.5 in c:\\users\\augus\\appdata\\local\\programs\\python\\python37\\lib\\site-packages (from importlib-metadata; python_version < \"3.8\"->transformers<5.0.0,>=4.6.0->sentence-transformers) (3.15.0)\n",
      "Requirement already satisfied, skipping upgrade: certifi>=2017.4.17 in c:\\users\\augus\\appdata\\local\\programs\\python\\python37\\lib\\site-packages (from requests->transformers<5.0.0,>=4.6.0->sentence-transformers) (2022.12.7)\n",
      "Requirement already satisfied, skipping upgrade: charset-normalizer<4,>=2 in c:\\users\\augus\\appdata\\local\\programs\\python\\python37\\lib\\site-packages (from requests->transformers<5.0.0,>=4.6.0->sentence-transformers) (3.1.0)\n",
      "Requirement already satisfied, skipping upgrade: idna<4,>=2.5 in c:\\users\\augus\\appdata\\local\\programs\\python\\python37\\lib\\site-packages (from requests->transformers<5.0.0,>=4.6.0->sentence-transformers) (3.4)\n",
      "Requirement already satisfied, skipping upgrade: urllib3<1.27,>=1.21.1 in c:\\users\\augus\\appdata\\local\\programs\\python\\python37\\lib\\site-packages (from requests->transformers<5.0.0,>=4.6.0->sentence-transformers) (1.26.15)\n"
     ]
    },
    {
     "name": "stderr",
     "output_type": "stream",
     "text": [
      "WARNING: You are using pip version 20.1.1; however, version 23.2.1 is available.\n",
      "You should consider upgrading via the 'c:\\Users\\augus\\AppData\\Local\\Programs\\Python\\Python37\\python.exe -m pip install --upgrade pip' command.\n"
     ]
    },
    {
     "name": "stdout",
     "output_type": "stream",
     "text": [
      "Requirement already satisfied: tqdm in c:\\users\\augus\\appdata\\local\\programs\\python\\python37\\lib\\site-packages (4.65.0)\n",
      "Requirement already satisfied: colorama; platform_system == \"Windows\" in c:\\users\\augus\\appdata\\roaming\\python\\python37\\site-packages (from tqdm) (0.4.1)\n"
     ]
    },
    {
     "name": "stderr",
     "output_type": "stream",
     "text": [
      "WARNING: You are using pip version 20.1.1; however, version 23.2.1 is available.\n",
      "You should consider upgrading via the 'c:\\Users\\augus\\AppData\\Local\\Programs\\Python\\Python37\\python.exe -m pip install --upgrade pip' command.\n"
     ]
    }
   ],
   "source": [
    "# Install a pip package in the current Jupyter kernel\n",
    "import sys\n",
    "!{sys.executable} -m pip install -U sentence-transformers\n",
    "!{sys.executable} -m pip install tqdm"
   ]
  },
  {
   "cell_type": "code",
   "execution_count": 2,
   "metadata": {},
   "outputs": [
    {
     "name": "stderr",
     "output_type": "stream",
     "text": [
      "c:\\Users\\augus\\AppData\\Local\\Programs\\Python\\Python37\\lib\\site-packages\\tqdm\\auto.py:21: TqdmWarning: IProgress not found. Please update jupyter and ipywidgets. See https://ipywidgets.readthedocs.io/en/stable/user_install.html\n",
      "  from .autonotebook import tqdm as notebook_tqdm\n"
     ]
    }
   ],
   "source": [
    "import relief\n",
    "import utils\n",
    "import pandas as pd\n",
    "import numpy as np\n",
    "from sklearn.compose import make_column_selector as selector\n",
    "from sklearn.preprocessing import OneHotEncoder, StandardScaler\n",
    "from sklearn.compose import ColumnTransformer\n",
    "from sklearn.linear_model import LogisticRegression\n",
    "from sklearn.pipeline import make_pipeline\n",
    "from sklearn.model_selection import train_test_split\n",
    "from sklearn.model_selection import cross_validate\n",
    "\n",
    "# Visualization\n",
    "from tqdm import tqdm\n",
    "import matplotlib.pyplot as plt\n",
    "%matplotlib inline\n",
    "# Warnings\n",
    "import warnings\n",
    "warnings.filterwarnings('ignore')"
   ]
  },
  {
   "attachments": {},
   "cell_type": "markdown",
   "metadata": {},
   "source": [
    "# WOMEN E COMMERCE"
   ]
  },
  {
   "cell_type": "code",
   "execution_count": 3,
   "metadata": {},
   "outputs": [
    {
     "data": {
      "text/html": [
       "<div>\n",
       "<style scoped>\n",
       "    .dataframe tbody tr th:only-of-type {\n",
       "        vertical-align: middle;\n",
       "    }\n",
       "\n",
       "    .dataframe tbody tr th {\n",
       "        vertical-align: top;\n",
       "    }\n",
       "\n",
       "    .dataframe thead th {\n",
       "        text-align: right;\n",
       "    }\n",
       "</style>\n",
       "<table border=\"1\" class=\"dataframe\">\n",
       "  <thead>\n",
       "    <tr style=\"text-align: right;\">\n",
       "      <th></th>\n",
       "      <th>clothing_id</th>\n",
       "      <th>age</th>\n",
       "      <th>rating</th>\n",
       "      <th>recommended_ind</th>\n",
       "      <th>positive_feedback_count</th>\n",
       "      <th>division_name</th>\n",
       "      <th>department_name</th>\n",
       "      <th>class_name</th>\n",
       "    </tr>\n",
       "  </thead>\n",
       "  <tbody>\n",
       "    <tr>\n",
       "      <th>0</th>\n",
       "      <td>767</td>\n",
       "      <td>33</td>\n",
       "      <td>4</td>\n",
       "      <td>1</td>\n",
       "      <td>0</td>\n",
       "      <td>Intimates</td>\n",
       "      <td>Intimates</td>\n",
       "      <td>Intimates</td>\n",
       "    </tr>\n",
       "    <tr>\n",
       "      <th>1</th>\n",
       "      <td>1080</td>\n",
       "      <td>34</td>\n",
       "      <td>5</td>\n",
       "      <td>1</td>\n",
       "      <td>4</td>\n",
       "      <td>General</td>\n",
       "      <td>Dresses</td>\n",
       "      <td>Dresses</td>\n",
       "    </tr>\n",
       "    <tr>\n",
       "      <th>2</th>\n",
       "      <td>1077</td>\n",
       "      <td>60</td>\n",
       "      <td>3</td>\n",
       "      <td>0</td>\n",
       "      <td>0</td>\n",
       "      <td>General</td>\n",
       "      <td>Dresses</td>\n",
       "      <td>Dresses</td>\n",
       "    </tr>\n",
       "    <tr>\n",
       "      <th>3</th>\n",
       "      <td>1049</td>\n",
       "      <td>50</td>\n",
       "      <td>5</td>\n",
       "      <td>1</td>\n",
       "      <td>0</td>\n",
       "      <td>General Petite</td>\n",
       "      <td>Bottoms</td>\n",
       "      <td>Pants</td>\n",
       "    </tr>\n",
       "    <tr>\n",
       "      <th>4</th>\n",
       "      <td>847</td>\n",
       "      <td>47</td>\n",
       "      <td>5</td>\n",
       "      <td>1</td>\n",
       "      <td>6</td>\n",
       "      <td>General</td>\n",
       "      <td>Tops</td>\n",
       "      <td>Blouses</td>\n",
       "    </tr>\n",
       "  </tbody>\n",
       "</table>\n",
       "</div>"
      ],
      "text/plain": [
       "   clothing_id  age  rating  recommended_ind  positive_feedback_count  \\\n",
       "0          767   33       4                1                        0   \n",
       "1         1080   34       5                1                        4   \n",
       "2         1077   60       3                0                        0   \n",
       "3         1049   50       5                1                        0   \n",
       "4          847   47       5                1                        6   \n",
       "\n",
       "    division_name department_name class_name  \n",
       "0       Intimates       Intimates  Intimates  \n",
       "1         General         Dresses    Dresses  \n",
       "2         General         Dresses    Dresses  \n",
       "3  General Petite         Bottoms      Pants  \n",
       "4         General            Tops    Blouses  "
      ]
     },
     "execution_count": 3,
     "metadata": {},
     "output_type": "execute_result"
    }
   ],
   "source": [
    "df = pd.read_csv(r\"C:\\Users\\augus\\Desktop\\projectTesis\\datasets\\women_e_commerce\\Womens Clothing E-Commerce Reviews.csv\")\n",
    "# contain redundant information about the index of the dataset\n",
    "df = df.drop(columns = \"Unnamed: 0\")\n",
    "# reformat the column names\n",
    "df.columns = (df.columns\n",
    "                .str.replace(' ', '_')\n",
    "                .str.lower()\n",
    "             )\n",
    "\n",
    "# Drop rows with missing values\n",
    "df = df.dropna(subset=['review_text'])\n",
    "#drop column review title.\n",
    "df = df.drop(columns = \"title\")\n",
    "#drop column review text.\n",
    "df = df.drop(columns = \"review_text\")\n",
    "#df['review_text'] = df['review_text'].astype(str)\n",
    "# Replacing \"Initmitates\" with \"Intimates\" in 'text_column'\n",
    "df['division_name'] = df['division_name'].str.replace('Initmates', 'Intimates')\n",
    "df['department_name'] = df['department_name'].str.replace('Intimate', 'Intimates')\n",
    "\n",
    "#X = df.sample(n=10000, ignore_index=True)\n",
    "\n",
    "df.head()"
   ]
  },
  {
   "cell_type": "code",
   "execution_count": 4,
   "metadata": {},
   "outputs": [
    {
     "data": {
      "text/plain": [
       "clothing_id                 int64\n",
       "age                         int64\n",
       "rating                      int64\n",
       "recommended_ind             int64\n",
       "positive_feedback_count     int64\n",
       "division_name              object\n",
       "department_name            object\n",
       "class_name                 object\n",
       "dtype: object"
      ]
     },
     "execution_count": 4,
     "metadata": {},
     "output_type": "execute_result"
    }
   ],
   "source": [
    "df.dtypes"
   ]
  },
  {
   "cell_type": "code",
   "execution_count": 5,
   "metadata": {},
   "outputs": [
    {
     "data": {
      "text/plain": [
       "clothing_id                  object\n",
       "age                           int64\n",
       "rating                        int64\n",
       "recommended_ind            category\n",
       "positive_feedback_count       int64\n",
       "division_name                object\n",
       "department_name              object\n",
       "class_name                   object\n",
       "dtype: object"
      ]
     },
     "execution_count": 5,
     "metadata": {},
     "output_type": "execute_result"
    }
   ],
   "source": [
    "df['clothing_id'] = df['clothing_id'].astype(\"object\")\n",
    "df['recommended_ind'] = df['recommended_ind'].astype(\"category\")\n",
    "df.dtypes"
   ]
  },
  {
   "cell_type": "code",
   "execution_count": 6,
   "metadata": {},
   "outputs": [],
   "source": [
    "# deep copy\n",
    "data = df.copy()\n",
    "# relief best attributes= rating. clothing_id (display significant Results)\n",
    "relief_data = df[[\"clothing_id\",\"rating\", \"recommended_ind\"]]\n",
    "\n",
    "# the label is recommmended_ind, the rest are the features.\n",
    "y_relief = relief_data.pop(\"recommended_ind\")\n",
    "y_total = data.pop(\"recommended_ind\")"
   ]
  },
  {
   "cell_type": "code",
   "execution_count": 7,
   "metadata": {},
   "outputs": [
    {
     "data": {
      "text/plain": [
       "clothing_id    object\n",
       "rating          int64\n",
       "dtype: object"
      ]
     },
     "execution_count": 7,
     "metadata": {},
     "output_type": "execute_result"
    }
   ],
   "source": [
    "relief_data.dtypes"
   ]
  },
  {
   "cell_type": "code",
   "execution_count": 8,
   "metadata": {},
   "outputs": [
    {
     "data": {
      "text/plain": [
       "Pipeline(steps=[('columntransformer',\n",
       "                 ColumnTransformer(transformers=[('one-hot-encoder',\n",
       "                                                  OneHotEncoder(handle_unknown='ignore'),\n",
       "                                                  ['clothing_id']),\n",
       "                                                 ('standard_scaler',\n",
       "                                                  StandardScaler(),\n",
       "                                                  ['rating'])])),\n",
       "                ('logisticregression', LogisticRegression(max_iter=500))])"
      ]
     },
     "execution_count": 8,
     "metadata": {},
     "output_type": "execute_result"
    }
   ],
   "source": [
    "numerical_columns_selector = selector(dtype_exclude=object)\n",
    "categorical_columns_selector = selector(dtype_include=object)\n",
    "\n",
    "numerical_columns = numerical_columns_selector(relief_data)\n",
    "categorical_columns = categorical_columns_selector(relief_data)\n",
    "\n",
    "categorical_preprocessor = OneHotEncoder(handle_unknown=\"ignore\")\n",
    "numerical_preprocessor = StandardScaler()\n",
    "\n",
    "preprocessor = ColumnTransformer(\n",
    "    [\n",
    "        (\"one-hot-encoder\", categorical_preprocessor, categorical_columns),\n",
    "        (\"standard_scaler\", numerical_preprocessor, numerical_columns),\n",
    "    ]\n",
    ")\n",
    "\n",
    "\n",
    "\n",
    "model = make_pipeline(preprocessor, LogisticRegression(max_iter=500))\n",
    "model"
   ]
  },
  {
   "cell_type": "code",
   "execution_count": 9,
   "metadata": {},
   "outputs": [],
   "source": [
    "data_train, data_test, target_train, target_test = train_test_split(\n",
    "    relief_data, y_relief, random_state=42)"
   ]
  },
  {
   "cell_type": "code",
   "execution_count": 10,
   "metadata": {},
   "outputs": [],
   "source": [
    "_ = model.fit(data_train, target_train)"
   ]
  },
  {
   "cell_type": "code",
   "execution_count": 11,
   "metadata": {},
   "outputs": [
    {
     "data": {
      "text/html": [
       "<div>\n",
       "<style scoped>\n",
       "    .dataframe tbody tr th:only-of-type {\n",
       "        vertical-align: middle;\n",
       "    }\n",
       "\n",
       "    .dataframe tbody tr th {\n",
       "        vertical-align: top;\n",
       "    }\n",
       "\n",
       "    .dataframe thead th {\n",
       "        text-align: right;\n",
       "    }\n",
       "</style>\n",
       "<table border=\"1\" class=\"dataframe\">\n",
       "  <thead>\n",
       "    <tr style=\"text-align: right;\">\n",
       "      <th></th>\n",
       "      <th>clothing_id</th>\n",
       "      <th>rating</th>\n",
       "    </tr>\n",
       "  </thead>\n",
       "  <tbody>\n",
       "    <tr>\n",
       "      <th>13365</th>\n",
       "      <td>948</td>\n",
       "      <td>5</td>\n",
       "    </tr>\n",
       "    <tr>\n",
       "      <th>19834</th>\n",
       "      <td>875</td>\n",
       "      <td>4</td>\n",
       "    </tr>\n",
       "    <tr>\n",
       "      <th>18722</th>\n",
       "      <td>829</td>\n",
       "      <td>4</td>\n",
       "    </tr>\n",
       "    <tr>\n",
       "      <th>10635</th>\n",
       "      <td>1068</td>\n",
       "      <td>5</td>\n",
       "    </tr>\n",
       "    <tr>\n",
       "      <th>7348</th>\n",
       "      <td>1030</td>\n",
       "      <td>2</td>\n",
       "    </tr>\n",
       "  </tbody>\n",
       "</table>\n",
       "</div>"
      ],
      "text/plain": [
       "      clothing_id  rating\n",
       "13365         948       5\n",
       "19834         875       4\n",
       "18722         829       4\n",
       "10635        1068       5\n",
       "7348         1030       2"
      ]
     },
     "execution_count": 11,
     "metadata": {},
     "output_type": "execute_result"
    }
   ],
   "source": [
    "data_test.head()"
   ]
  },
  {
   "cell_type": "code",
   "execution_count": 12,
   "metadata": {},
   "outputs": [
    {
     "data": {
      "text/plain": [
       "array([1, 1, 1, 1, 0], dtype=int64)"
      ]
     },
     "execution_count": 12,
     "metadata": {},
     "output_type": "execute_result"
    }
   ],
   "source": [
    "model.predict(data_test)[:5]"
   ]
  },
  {
   "cell_type": "code",
   "execution_count": 13,
   "metadata": {},
   "outputs": [
    {
     "data": {
      "text/plain": [
       "13365    1\n",
       "19834    1\n",
       "18722    1\n",
       "10635    1\n",
       "7348     1\n",
       "Name: recommended_ind, dtype: category\n",
       "Categories (2, int64): [0, 1]"
      ]
     },
     "execution_count": 13,
     "metadata": {},
     "output_type": "execute_result"
    }
   ],
   "source": [
    "target_test[:5]"
   ]
  },
  {
   "cell_type": "code",
   "execution_count": 14,
   "metadata": {},
   "outputs": [
    {
     "data": {
      "text/plain": [
       "0.9309309309309309"
      ]
     },
     "execution_count": 14,
     "metadata": {},
     "output_type": "execute_result"
    }
   ],
   "source": [
    "# accuracy score on the entire test set.\n",
    "model.score(data_test, target_test)"
   ]
  },
  {
   "attachments": {},
   "cell_type": "markdown",
   "metadata": {},
   "source": [
    "For the total model."
   ]
  },
  {
   "cell_type": "code",
   "execution_count": 15,
   "metadata": {},
   "outputs": [
    {
     "data": {
      "text/plain": [
       "Pipeline(steps=[('columntransformer',\n",
       "                 ColumnTransformer(transformers=[('one-hot-encoder',\n",
       "                                                  OneHotEncoder(handle_unknown='ignore'),\n",
       "                                                  ['clothing_id',\n",
       "                                                   'division_name',\n",
       "                                                   'department_name',\n",
       "                                                   'class_name']),\n",
       "                                                 ('standard_scaler',\n",
       "                                                  StandardScaler(),\n",
       "                                                  ['age', 'rating',\n",
       "                                                   'positive_feedback_count'])])),\n",
       "                ('logisticregression', LogisticRegression(max_iter=500))])"
      ]
     },
     "execution_count": 15,
     "metadata": {},
     "output_type": "execute_result"
    }
   ],
   "source": [
    "numerical_columns_total = numerical_columns_selector(data)\n",
    "categorical_columns_total = categorical_columns_selector(data)\n",
    "\n",
    "preprocessor_total = ColumnTransformer(\n",
    "    [\n",
    "        (\"one-hot-encoder\", categorical_preprocessor, categorical_columns_total),\n",
    "        (\"standard_scaler\", numerical_preprocessor, numerical_columns_total),\n",
    "    ])\n",
    "model_total = make_pipeline(preprocessor_total, LogisticRegression(max_iter=500))\n",
    "model_total"
   ]
  },
  {
   "cell_type": "code",
   "execution_count": 16,
   "metadata": {},
   "outputs": [],
   "source": [
    "data_train, data_test, target_train, target_test = train_test_split(\n",
    "    data, y_total, random_state=42)"
   ]
  },
  {
   "cell_type": "code",
   "execution_count": 17,
   "metadata": {},
   "outputs": [
    {
     "data": {
      "text/plain": [
       "array([1, 1, 1, 1, 0], dtype=int64)"
      ]
     },
     "execution_count": 17,
     "metadata": {},
     "output_type": "execute_result"
    }
   ],
   "source": [
    "_ = model_total.fit(data_train, target_train)\n",
    "model_total.predict(data_test)[:5]"
   ]
  },
  {
   "cell_type": "code",
   "execution_count": 18,
   "metadata": {},
   "outputs": [
    {
     "data": {
      "text/plain": [
       "0.9298710475181063"
      ]
     },
     "execution_count": 18,
     "metadata": {},
     "output_type": "execute_result"
    }
   ],
   "source": [
    "# accuracy score on the entire test set.\n",
    "model_total.score(data_test, target_test)"
   ]
  },
  {
   "attachments": {},
   "cell_type": "markdown",
   "metadata": {},
   "source": [
    "## cross validation of the results"
   ]
  },
  {
   "cell_type": "code",
   "execution_count": 19,
   "metadata": {},
   "outputs": [
    {
     "name": "stdout",
     "output_type": "stream",
     "text": [
      "The mean cross-validation accuracy is: 0.931 ± 0.002\n"
     ]
    }
   ],
   "source": [
    "cv_results = cross_validate(model, relief_data, y_relief, cv=5)\n",
    "scores = cv_results[\"test_score\"]\n",
    "print(\n",
    "    \"The mean cross-validation accuracy is: \"\n",
    "    f\"{scores.mean():.3f} ± {scores.std():.3f}\"\n",
    ")"
   ]
  },
  {
   "cell_type": "code",
   "execution_count": 20,
   "metadata": {},
   "outputs": [
    {
     "name": "stdout",
     "output_type": "stream",
     "text": [
      "The mean cross-validation accuracy is: 0.931 ± 0.002\n"
     ]
    }
   ],
   "source": [
    "cv_results = cross_validate(model_total, data, y_total, cv=5)\n",
    "scores = cv_results[\"test_score\"]\n",
    "print(\n",
    "    \"The mean cross-validation accuracy is: \"\n",
    "    f\"{scores.mean():.3f} ± {scores.std():.3f}\"\n",
    ")"
   ]
  },
  {
   "attachments": {},
   "cell_type": "markdown",
   "metadata": {},
   "source": [
    "# PET FINDER"
   ]
  },
  {
   "cell_type": "code",
   "execution_count": 21,
   "metadata": {},
   "outputs": [
    {
     "data": {
      "text/html": [
       "<div>\n",
       "<style scoped>\n",
       "    .dataframe tbody tr th:only-of-type {\n",
       "        vertical-align: middle;\n",
       "    }\n",
       "\n",
       "    .dataframe tbody tr th {\n",
       "        vertical-align: top;\n",
       "    }\n",
       "\n",
       "    .dataframe thead th {\n",
       "        text-align: right;\n",
       "    }\n",
       "</style>\n",
       "<table border=\"1\" class=\"dataframe\">\n",
       "  <thead>\n",
       "    <tr style=\"text-align: right;\">\n",
       "      <th></th>\n",
       "      <th>Unnamed: 0</th>\n",
       "      <th>Unnamed: 0.1</th>\n",
       "      <th>Type</th>\n",
       "      <th>Name</th>\n",
       "      <th>Age</th>\n",
       "      <th>Breed1</th>\n",
       "      <th>Breed2</th>\n",
       "      <th>Gender</th>\n",
       "      <th>Color1</th>\n",
       "      <th>Color2</th>\n",
       "      <th>Color3</th>\n",
       "      <th>MaturitySize</th>\n",
       "      <th>FurLength</th>\n",
       "      <th>Vaccinated</th>\n",
       "      <th>Dewormed</th>\n",
       "      <th>Sterilized</th>\n",
       "      <th>Health</th>\n",
       "      <th>Quantity</th>\n",
       "      <th>Fee</th>\n",
       "      <th>State</th>\n",
       "      <th>RescuerID</th>\n",
       "      <th>VideoAmt</th>\n",
       "      <th>Description</th>\n",
       "      <th>PetID</th>\n",
       "      <th>PhotoAmt</th>\n",
       "      <th>AdoptionSpeed</th>\n",
       "    </tr>\n",
       "  </thead>\n",
       "  <tbody>\n",
       "    <tr>\n",
       "      <th>0</th>\n",
       "      <td>10318</td>\n",
       "      <td>10318</td>\n",
       "      <td>2</td>\n",
       "      <td>Xiao Li</td>\n",
       "      <td>2</td>\n",
       "      <td>Domestic Short Hair</td>\n",
       "      <td>NaN</td>\n",
       "      <td>2</td>\n",
       "      <td>Brown</td>\n",
       "      <td>White</td>\n",
       "      <td>NaN</td>\n",
       "      <td>2</td>\n",
       "      <td>1</td>\n",
       "      <td>2</td>\n",
       "      <td>1</td>\n",
       "      <td>2</td>\n",
       "      <td>1</td>\n",
       "      <td>1</td>\n",
       "      <td>0</td>\n",
       "      <td>Selangor</td>\n",
       "      <td>744fa4278196568a18fcf5cd7d324ed2</td>\n",
       "      <td>0</td>\n",
       "      <td>Xiao Li was rescued when the local council rai...</td>\n",
       "      <td>d5c68b3bf</td>\n",
       "      <td>4.0</td>\n",
       "      <td>3</td>\n",
       "    </tr>\n",
       "    <tr>\n",
       "      <th>1</th>\n",
       "      <td>9789</td>\n",
       "      <td>9789</td>\n",
       "      <td>1</td>\n",
       "      <td>Puppy Girl</td>\n",
       "      <td>3</td>\n",
       "      <td>Mixed Breed</td>\n",
       "      <td>Rottweiler</td>\n",
       "      <td>2</td>\n",
       "      <td>Black</td>\n",
       "      <td>Brown</td>\n",
       "      <td>NaN</td>\n",
       "      <td>2</td>\n",
       "      <td>1</td>\n",
       "      <td>1</td>\n",
       "      <td>1</td>\n",
       "      <td>2</td>\n",
       "      <td>1</td>\n",
       "      <td>1</td>\n",
       "      <td>0</td>\n",
       "      <td>Kuala Lumpur</td>\n",
       "      <td>b770bac0ca797cf1433c48a35d30c4cb</td>\n",
       "      <td>0</td>\n",
       "      <td>Active and healthy. Already vaccine and deworm...</td>\n",
       "      <td>b968b85c1</td>\n",
       "      <td>2.0</td>\n",
       "      <td>3</td>\n",
       "    </tr>\n",
       "    <tr>\n",
       "      <th>2</th>\n",
       "      <td>11994</td>\n",
       "      <td>11994</td>\n",
       "      <td>2</td>\n",
       "      <td>Cookie And Cream</td>\n",
       "      <td>2</td>\n",
       "      <td>Domestic Short Hair</td>\n",
       "      <td>NaN</td>\n",
       "      <td>3</td>\n",
       "      <td>Yellow</td>\n",
       "      <td>Cream</td>\n",
       "      <td>White</td>\n",
       "      <td>1</td>\n",
       "      <td>1</td>\n",
       "      <td>2</td>\n",
       "      <td>1</td>\n",
       "      <td>2</td>\n",
       "      <td>1</td>\n",
       "      <td>2</td>\n",
       "      <td>0</td>\n",
       "      <td>Selangor</td>\n",
       "      <td>3b36a2f0ba551f7d0276cd1741369c37</td>\n",
       "      <td>0</td>\n",
       "      <td>These kittens were found behind the alley of m...</td>\n",
       "      <td>0cf645af3</td>\n",
       "      <td>3.0</td>\n",
       "      <td>1</td>\n",
       "    </tr>\n",
       "    <tr>\n",
       "      <th>3</th>\n",
       "      <td>5451</td>\n",
       "      <td>5451</td>\n",
       "      <td>1</td>\n",
       "      <td>Suki</td>\n",
       "      <td>36</td>\n",
       "      <td>Maltese</td>\n",
       "      <td>Poodle</td>\n",
       "      <td>2</td>\n",
       "      <td>White</td>\n",
       "      <td>NaN</td>\n",
       "      <td>NaN</td>\n",
       "      <td>1</td>\n",
       "      <td>2</td>\n",
       "      <td>1</td>\n",
       "      <td>1</td>\n",
       "      <td>1</td>\n",
       "      <td>1</td>\n",
       "      <td>1</td>\n",
       "      <td>100</td>\n",
       "      <td>Selangor</td>\n",
       "      <td>a63ec365c8c0d28ff01d2cb1b31406cb</td>\n",
       "      <td>0</td>\n",
       "      <td>Friendly..loving..love to play..potty trained</td>\n",
       "      <td>804e56f9b</td>\n",
       "      <td>4.0</td>\n",
       "      <td>1</td>\n",
       "    </tr>\n",
       "    <tr>\n",
       "      <th>4</th>\n",
       "      <td>9845</td>\n",
       "      <td>9845</td>\n",
       "      <td>1</td>\n",
       "      <td>A3</td>\n",
       "      <td>1</td>\n",
       "      <td>Mixed Breed</td>\n",
       "      <td>Mixed Breed</td>\n",
       "      <td>1</td>\n",
       "      <td>Black</td>\n",
       "      <td>NaN</td>\n",
       "      <td>NaN</td>\n",
       "      <td>2</td>\n",
       "      <td>2</td>\n",
       "      <td>2</td>\n",
       "      <td>1</td>\n",
       "      <td>2</td>\n",
       "      <td>1</td>\n",
       "      <td>1</td>\n",
       "      <td>0</td>\n",
       "      <td>Selangor</td>\n",
       "      <td>eba983b85e34963999d476ccada91619</td>\n",
       "      <td>0</td>\n",
       "      <td>For Adoption</td>\n",
       "      <td>b414c5dd9</td>\n",
       "      <td>3.0</td>\n",
       "      <td>1</td>\n",
       "    </tr>\n",
       "  </tbody>\n",
       "</table>\n",
       "</div>"
      ],
      "text/plain": [
       "   Unnamed: 0  Unnamed: 0.1  Type              Name  Age               Breed1  \\\n",
       "0       10318         10318     2           Xiao Li    2  Domestic Short Hair   \n",
       "1        9789          9789     1        Puppy Girl    3          Mixed Breed   \n",
       "2       11994         11994     2  Cookie And Cream    2  Domestic Short Hair   \n",
       "3        5451          5451     1              Suki   36              Maltese   \n",
       "4        9845          9845     1                A3    1          Mixed Breed   \n",
       "\n",
       "        Breed2  Gender  Color1 Color2 Color3  MaturitySize  FurLength  \\\n",
       "0          NaN       2   Brown  White    NaN             2          1   \n",
       "1   Rottweiler       2   Black  Brown    NaN             2          1   \n",
       "2          NaN       3  Yellow  Cream  White             1          1   \n",
       "3       Poodle       2   White    NaN    NaN             1          2   \n",
       "4  Mixed Breed       1   Black    NaN    NaN             2          2   \n",
       "\n",
       "   Vaccinated  Dewormed  Sterilized  Health  Quantity  Fee         State  \\\n",
       "0           2         1           2       1         1    0      Selangor   \n",
       "1           1         1           2       1         1    0  Kuala Lumpur   \n",
       "2           2         1           2       1         2    0      Selangor   \n",
       "3           1         1           1       1         1  100      Selangor   \n",
       "4           2         1           2       1         1    0      Selangor   \n",
       "\n",
       "                          RescuerID  VideoAmt  \\\n",
       "0  744fa4278196568a18fcf5cd7d324ed2         0   \n",
       "1  b770bac0ca797cf1433c48a35d30c4cb         0   \n",
       "2  3b36a2f0ba551f7d0276cd1741369c37         0   \n",
       "3  a63ec365c8c0d28ff01d2cb1b31406cb         0   \n",
       "4  eba983b85e34963999d476ccada91619         0   \n",
       "\n",
       "                                         Description      PetID  PhotoAmt  \\\n",
       "0  Xiao Li was rescued when the local council rai...  d5c68b3bf       4.0   \n",
       "1  Active and healthy. Already vaccine and deworm...  b968b85c1       2.0   \n",
       "2  These kittens were found behind the alley of m...  0cf645af3       3.0   \n",
       "3      Friendly..loving..love to play..potty trained  804e56f9b       4.0   \n",
       "4                                       For Adoption  b414c5dd9       3.0   \n",
       "\n",
       "   AdoptionSpeed  \n",
       "0              3  \n",
       "1              3  \n",
       "2              1  \n",
       "3              1  \n",
       "4              1  "
      ]
     },
     "execution_count": 21,
     "metadata": {},
     "output_type": "execute_result"
    }
   ],
   "source": [
    "# set the max columns to none\n",
    "pd.set_option('display.max_columns', None)\n",
    "df = pd.read_csv(r\"C:\\Users\\augus\\Desktop\\projectTesis\\datasets\\train_pet_finder.csv\")\n",
    "df.head()"
   ]
  },
  {
   "cell_type": "code",
   "execution_count": 22,
   "metadata": {},
   "outputs": [
    {
     "data": {
      "text/html": [
       "<div>\n",
       "<style scoped>\n",
       "    .dataframe tbody tr th:only-of-type {\n",
       "        vertical-align: middle;\n",
       "    }\n",
       "\n",
       "    .dataframe tbody tr th {\n",
       "        vertical-align: top;\n",
       "    }\n",
       "\n",
       "    .dataframe thead th {\n",
       "        text-align: right;\n",
       "    }\n",
       "</style>\n",
       "<table border=\"1\" class=\"dataframe\">\n",
       "  <thead>\n",
       "    <tr style=\"text-align: right;\">\n",
       "      <th></th>\n",
       "      <th>Type</th>\n",
       "      <th>Age</th>\n",
       "      <th>Breed1</th>\n",
       "      <th>Gender</th>\n",
       "      <th>Color1</th>\n",
       "      <th>MaturitySize</th>\n",
       "      <th>FurLength</th>\n",
       "      <th>Vaccinated</th>\n",
       "      <th>Dewormed</th>\n",
       "      <th>Sterilized</th>\n",
       "      <th>Health</th>\n",
       "      <th>Quantity</th>\n",
       "      <th>Fee</th>\n",
       "      <th>State</th>\n",
       "      <th>PhotoAmt</th>\n",
       "      <th>AdoptionSpeed</th>\n",
       "    </tr>\n",
       "  </thead>\n",
       "  <tbody>\n",
       "    <tr>\n",
       "      <th>0</th>\n",
       "      <td>2</td>\n",
       "      <td>2</td>\n",
       "      <td>Domestic Short Hair</td>\n",
       "      <td>2</td>\n",
       "      <td>Brown</td>\n",
       "      <td>2</td>\n",
       "      <td>1</td>\n",
       "      <td>2</td>\n",
       "      <td>1</td>\n",
       "      <td>2</td>\n",
       "      <td>1</td>\n",
       "      <td>1</td>\n",
       "      <td>0</td>\n",
       "      <td>Selangor</td>\n",
       "      <td>4.0</td>\n",
       "      <td>3</td>\n",
       "    </tr>\n",
       "    <tr>\n",
       "      <th>1</th>\n",
       "      <td>1</td>\n",
       "      <td>3</td>\n",
       "      <td>Mixed Breed</td>\n",
       "      <td>2</td>\n",
       "      <td>Black</td>\n",
       "      <td>2</td>\n",
       "      <td>1</td>\n",
       "      <td>1</td>\n",
       "      <td>1</td>\n",
       "      <td>2</td>\n",
       "      <td>1</td>\n",
       "      <td>1</td>\n",
       "      <td>0</td>\n",
       "      <td>Kuala Lumpur</td>\n",
       "      <td>2.0</td>\n",
       "      <td>3</td>\n",
       "    </tr>\n",
       "    <tr>\n",
       "      <th>2</th>\n",
       "      <td>2</td>\n",
       "      <td>2</td>\n",
       "      <td>Domestic Short Hair</td>\n",
       "      <td>3</td>\n",
       "      <td>Yellow</td>\n",
       "      <td>1</td>\n",
       "      <td>1</td>\n",
       "      <td>2</td>\n",
       "      <td>1</td>\n",
       "      <td>2</td>\n",
       "      <td>1</td>\n",
       "      <td>2</td>\n",
       "      <td>0</td>\n",
       "      <td>Selangor</td>\n",
       "      <td>3.0</td>\n",
       "      <td>1</td>\n",
       "    </tr>\n",
       "    <tr>\n",
       "      <th>3</th>\n",
       "      <td>1</td>\n",
       "      <td>36</td>\n",
       "      <td>Maltese</td>\n",
       "      <td>2</td>\n",
       "      <td>White</td>\n",
       "      <td>1</td>\n",
       "      <td>2</td>\n",
       "      <td>1</td>\n",
       "      <td>1</td>\n",
       "      <td>1</td>\n",
       "      <td>1</td>\n",
       "      <td>1</td>\n",
       "      <td>100</td>\n",
       "      <td>Selangor</td>\n",
       "      <td>4.0</td>\n",
       "      <td>1</td>\n",
       "    </tr>\n",
       "    <tr>\n",
       "      <th>4</th>\n",
       "      <td>1</td>\n",
       "      <td>1</td>\n",
       "      <td>Mixed Breed</td>\n",
       "      <td>1</td>\n",
       "      <td>Black</td>\n",
       "      <td>2</td>\n",
       "      <td>2</td>\n",
       "      <td>2</td>\n",
       "      <td>1</td>\n",
       "      <td>2</td>\n",
       "      <td>1</td>\n",
       "      <td>1</td>\n",
       "      <td>0</td>\n",
       "      <td>Selangor</td>\n",
       "      <td>3.0</td>\n",
       "      <td>1</td>\n",
       "    </tr>\n",
       "  </tbody>\n",
       "</table>\n",
       "</div>"
      ],
      "text/plain": [
       "   Type  Age               Breed1  Gender  Color1  MaturitySize  FurLength  \\\n",
       "0     2    2  Domestic Short Hair       2   Brown             2          1   \n",
       "1     1    3          Mixed Breed       2   Black             2          1   \n",
       "2     2    2  Domestic Short Hair       3  Yellow             1          1   \n",
       "3     1   36              Maltese       2   White             1          2   \n",
       "4     1    1          Mixed Breed       1   Black             2          2   \n",
       "\n",
       "   Vaccinated  Dewormed  Sterilized  Health  Quantity  Fee         State  \\\n",
       "0           2         1           2       1         1    0      Selangor   \n",
       "1           1         1           2       1         1    0  Kuala Lumpur   \n",
       "2           2         1           2       1         2    0      Selangor   \n",
       "3           1         1           1       1         1  100      Selangor   \n",
       "4           2         1           2       1         1    0      Selangor   \n",
       "\n",
       "   PhotoAmt  AdoptionSpeed  \n",
       "0       4.0              3  \n",
       "1       2.0              3  \n",
       "2       3.0              1  \n",
       "3       4.0              1  \n",
       "4       3.0              1  "
      ]
     },
     "execution_count": 22,
     "metadata": {},
     "output_type": "execute_result"
    }
   ],
   "source": [
    "df = df.drop(columns = ['Unnamed: 0', 'Unnamed: 0.1', 'RescuerID', 'PetID', 'Color2', 'Color3','Breed2','Name', 'VideoAmt', 'Description'])\n",
    "df.head()"
   ]
  },
  {
   "cell_type": "code",
   "execution_count": 23,
   "metadata": {},
   "outputs": [
    {
     "data": {
      "text/plain": [
       "Type               int64\n",
       "Age                int64\n",
       "Breed1            object\n",
       "Gender             int64\n",
       "Color1            object\n",
       "MaturitySize       int64\n",
       "FurLength          int64\n",
       "Vaccinated         int64\n",
       "Dewormed           int64\n",
       "Sterilized         int64\n",
       "Health             int64\n",
       "Quantity           int64\n",
       "Fee                int64\n",
       "State             object\n",
       "PhotoAmt         float64\n",
       "AdoptionSpeed      int64\n",
       "dtype: object"
      ]
     },
     "execution_count": 23,
     "metadata": {},
     "output_type": "execute_result"
    }
   ],
   "source": [
    "df.dtypes"
   ]
  },
  {
   "cell_type": "code",
   "execution_count": 24,
   "metadata": {},
   "outputs": [
    {
     "data": {
      "text/plain": [
       "Type              object\n",
       "Age                int64\n",
       "Breed1            object\n",
       "Gender            object\n",
       "Color1            object\n",
       "MaturitySize       int64\n",
       "FurLength          int64\n",
       "Vaccinated        object\n",
       "Dewormed          object\n",
       "Sterilized        object\n",
       "Health             int64\n",
       "Quantity           int64\n",
       "Fee                int64\n",
       "State             object\n",
       "PhotoAmt         float64\n",
       "AdoptionSpeed      int64\n",
       "dtype: object"
      ]
     },
     "execution_count": 24,
     "metadata": {},
     "output_type": "execute_result"
    }
   ],
   "source": [
    "df['Type'] = df['Type'].astype('object')\n",
    "df['Gender'] = df['Gender'].astype('object')\n",
    "df['Vaccinated'] = df['Vaccinated'].astype('object')\n",
    "df['Dewormed'] = df['Dewormed'].astype('object')\n",
    "df['Sterilized'] = df['Sterilized'].astype('object')\n",
    "df.dtypes"
   ]
  },
  {
   "cell_type": "code",
   "execution_count": 25,
   "metadata": {},
   "outputs": [],
   "source": [
    "# df is the entire dataset with all predictors.\n",
    "data = df.copy()\n",
    "relief_data = df[[\"Sterilized\",\"State\", \"Dewormed\", \"Breed1\",\"AdoptionSpeed\"]]\n",
    "\n",
    "target_relief = relief_data.pop(\"AdoptionSpeed\")\n",
    "target = data.pop(\"AdoptionSpeed\")"
   ]
  },
  {
   "cell_type": "code",
   "execution_count": 26,
   "metadata": {},
   "outputs": [
    {
     "data": {
      "text/html": [
       "<div>\n",
       "<style scoped>\n",
       "    .dataframe tbody tr th:only-of-type {\n",
       "        vertical-align: middle;\n",
       "    }\n",
       "\n",
       "    .dataframe tbody tr th {\n",
       "        vertical-align: top;\n",
       "    }\n",
       "\n",
       "    .dataframe thead th {\n",
       "        text-align: right;\n",
       "    }\n",
       "</style>\n",
       "<table border=\"1\" class=\"dataframe\">\n",
       "  <thead>\n",
       "    <tr style=\"text-align: right;\">\n",
       "      <th></th>\n",
       "      <th>Type</th>\n",
       "      <th>Age</th>\n",
       "      <th>Breed1</th>\n",
       "      <th>Gender</th>\n",
       "      <th>Color1</th>\n",
       "      <th>MaturitySize</th>\n",
       "      <th>FurLength</th>\n",
       "      <th>Vaccinated</th>\n",
       "      <th>Dewormed</th>\n",
       "      <th>Sterilized</th>\n",
       "      <th>Health</th>\n",
       "      <th>Quantity</th>\n",
       "      <th>Fee</th>\n",
       "      <th>State</th>\n",
       "      <th>PhotoAmt</th>\n",
       "    </tr>\n",
       "  </thead>\n",
       "  <tbody>\n",
       "    <tr>\n",
       "      <th>0</th>\n",
       "      <td>2</td>\n",
       "      <td>2</td>\n",
       "      <td>Domestic Short Hair</td>\n",
       "      <td>2</td>\n",
       "      <td>Brown</td>\n",
       "      <td>2</td>\n",
       "      <td>1</td>\n",
       "      <td>2</td>\n",
       "      <td>1</td>\n",
       "      <td>2</td>\n",
       "      <td>1</td>\n",
       "      <td>1</td>\n",
       "      <td>0</td>\n",
       "      <td>Selangor</td>\n",
       "      <td>4.0</td>\n",
       "    </tr>\n",
       "    <tr>\n",
       "      <th>1</th>\n",
       "      <td>1</td>\n",
       "      <td>3</td>\n",
       "      <td>Mixed Breed</td>\n",
       "      <td>2</td>\n",
       "      <td>Black</td>\n",
       "      <td>2</td>\n",
       "      <td>1</td>\n",
       "      <td>1</td>\n",
       "      <td>1</td>\n",
       "      <td>2</td>\n",
       "      <td>1</td>\n",
       "      <td>1</td>\n",
       "      <td>0</td>\n",
       "      <td>Kuala Lumpur</td>\n",
       "      <td>2.0</td>\n",
       "    </tr>\n",
       "    <tr>\n",
       "      <th>2</th>\n",
       "      <td>2</td>\n",
       "      <td>2</td>\n",
       "      <td>Domestic Short Hair</td>\n",
       "      <td>3</td>\n",
       "      <td>Yellow</td>\n",
       "      <td>1</td>\n",
       "      <td>1</td>\n",
       "      <td>2</td>\n",
       "      <td>1</td>\n",
       "      <td>2</td>\n",
       "      <td>1</td>\n",
       "      <td>2</td>\n",
       "      <td>0</td>\n",
       "      <td>Selangor</td>\n",
       "      <td>3.0</td>\n",
       "    </tr>\n",
       "    <tr>\n",
       "      <th>3</th>\n",
       "      <td>1</td>\n",
       "      <td>36</td>\n",
       "      <td>Maltese</td>\n",
       "      <td>2</td>\n",
       "      <td>White</td>\n",
       "      <td>1</td>\n",
       "      <td>2</td>\n",
       "      <td>1</td>\n",
       "      <td>1</td>\n",
       "      <td>1</td>\n",
       "      <td>1</td>\n",
       "      <td>1</td>\n",
       "      <td>100</td>\n",
       "      <td>Selangor</td>\n",
       "      <td>4.0</td>\n",
       "    </tr>\n",
       "    <tr>\n",
       "      <th>4</th>\n",
       "      <td>1</td>\n",
       "      <td>1</td>\n",
       "      <td>Mixed Breed</td>\n",
       "      <td>1</td>\n",
       "      <td>Black</td>\n",
       "      <td>2</td>\n",
       "      <td>2</td>\n",
       "      <td>2</td>\n",
       "      <td>1</td>\n",
       "      <td>2</td>\n",
       "      <td>1</td>\n",
       "      <td>1</td>\n",
       "      <td>0</td>\n",
       "      <td>Selangor</td>\n",
       "      <td>3.0</td>\n",
       "    </tr>\n",
       "  </tbody>\n",
       "</table>\n",
       "</div>"
      ],
      "text/plain": [
       "  Type  Age               Breed1 Gender  Color1  MaturitySize  FurLength  \\\n",
       "0    2    2  Domestic Short Hair      2   Brown             2          1   \n",
       "1    1    3          Mixed Breed      2   Black             2          1   \n",
       "2    2    2  Domestic Short Hair      3  Yellow             1          1   \n",
       "3    1   36              Maltese      2   White             1          2   \n",
       "4    1    1          Mixed Breed      1   Black             2          2   \n",
       "\n",
       "  Vaccinated Dewormed Sterilized  Health  Quantity  Fee         State  \\\n",
       "0          2        1          2       1         1    0      Selangor   \n",
       "1          1        1          2       1         1    0  Kuala Lumpur   \n",
       "2          2        1          2       1         2    0      Selangor   \n",
       "3          1        1          1       1         1  100      Selangor   \n",
       "4          2        1          2       1         1    0      Selangor   \n",
       "\n",
       "   PhotoAmt  \n",
       "0       4.0  \n",
       "1       2.0  \n",
       "2       3.0  \n",
       "3       4.0  \n",
       "4       3.0  "
      ]
     },
     "execution_count": 26,
     "metadata": {},
     "output_type": "execute_result"
    }
   ],
   "source": [
    "data.head()"
   ]
  },
  {
   "cell_type": "code",
   "execution_count": 27,
   "metadata": {},
   "outputs": [
    {
     "data": {
      "text/plain": [
       "Pipeline(steps=[('columntransformer',\n",
       "                 ColumnTransformer(transformers=[('one-hot-encoder',\n",
       "                                                  OneHotEncoder(handle_unknown='ignore'),\n",
       "                                                  ['Type', 'Breed1', 'Gender',\n",
       "                                                   'Color1', 'Vaccinated',\n",
       "                                                   'Dewormed', 'Sterilized',\n",
       "                                                   'State']),\n",
       "                                                 ('standard_scaler',\n",
       "                                                  StandardScaler(),\n",
       "                                                  ['Age', 'MaturitySize',\n",
       "                                                   'FurLength', 'Health',\n",
       "                                                   'Quantity', 'Fee',\n",
       "                                                   'PhotoAmt'])])),\n",
       "                ('logisticregression', LogisticRegression(max_iter=500))])"
      ]
     },
     "execution_count": 27,
     "metadata": {},
     "output_type": "execute_result"
    }
   ],
   "source": [
    "numerical_columns_selector = selector(dtype_exclude=object)\n",
    "categorical_columns_selector = selector(dtype_include=object)\n",
    "\n",
    "numerical_columns = numerical_columns_selector(data)\n",
    "categorical_columns = categorical_columns_selector(data)\n",
    "\n",
    "categorical_preprocessor = OneHotEncoder(handle_unknown=\"ignore\")\n",
    "numerical_preprocessor = StandardScaler()\n",
    "\n",
    "preprocessor = ColumnTransformer(\n",
    "    [\n",
    "        (\"one-hot-encoder\", categorical_preprocessor, categorical_columns),\n",
    "        (\"standard_scaler\", numerical_preprocessor, numerical_columns),\n",
    "    ]\n",
    ")\n",
    "\n",
    "model = make_pipeline(preprocessor, LogisticRegression(max_iter=500))\n",
    "model"
   ]
  },
  {
   "cell_type": "code",
   "execution_count": 28,
   "metadata": {},
   "outputs": [],
   "source": [
    "data_train, data_test, target_train, target_test = train_test_split(\n",
    "    data, target, random_state=42\n",
    ")"
   ]
  },
  {
   "cell_type": "code",
   "execution_count": 29,
   "metadata": {},
   "outputs": [],
   "source": [
    "_ = model.fit(data_train, target_train)\n"
   ]
  },
  {
   "cell_type": "code",
   "execution_count": 30,
   "metadata": {},
   "outputs": [
    {
     "name": "stdout",
     "output_type": "stream",
     "text": [
      "The mean cross-validation accuracy is: 0.365 ± 0.005\n"
     ]
    }
   ],
   "source": [
    "cv_results = cross_validate(model, data, target, cv=5)\n",
    "scores = cv_results[\"test_score\"]\n",
    "print(\n",
    "    \"The mean cross-validation accuracy is: \"\n",
    "    f\"{scores.mean():.3f} ± {scores.std():.3f}\"\n",
    ")"
   ]
  },
  {
   "attachments": {},
   "cell_type": "markdown",
   "metadata": {},
   "source": [
    "Applying the relief predictors"
   ]
  },
  {
   "cell_type": "code",
   "execution_count": 31,
   "metadata": {},
   "outputs": [
    {
     "data": {
      "text/plain": [
       "Pipeline(steps=[('columntransformer',\n",
       "                 ColumnTransformer(transformers=[('one-hot-encoder',\n",
       "                                                  OneHotEncoder(handle_unknown='ignore'),\n",
       "                                                  ['Sterilized', 'State',\n",
       "                                                   'Dewormed', 'Breed1']),\n",
       "                                                 ('standard_scaler',\n",
       "                                                  StandardScaler(), [])])),\n",
       "                ('logisticregression', LogisticRegression(max_iter=500))])"
      ]
     },
     "execution_count": 31,
     "metadata": {},
     "output_type": "execute_result"
    }
   ],
   "source": [
    "numerical_columns_selector = selector(dtype_exclude=object)\n",
    "categorical_columns_selector = selector(dtype_include=object)\n",
    "\n",
    "numerical_columns = numerical_columns_selector(relief_data)\n",
    "categorical_columns = categorical_columns_selector(relief_data)\n",
    "\n",
    "categorical_preprocessor = OneHotEncoder(handle_unknown=\"ignore\")\n",
    "numerical_preprocessor = StandardScaler()\n",
    "\n",
    "preprocessor = ColumnTransformer(\n",
    "    [\n",
    "        (\"one-hot-encoder\", categorical_preprocessor, categorical_columns),\n",
    "        (\"standard_scaler\", numerical_preprocessor, numerical_columns),\n",
    "    ]\n",
    ")\n",
    "\n",
    "model = make_pipeline(preprocessor, LogisticRegression(max_iter=500))\n",
    "model"
   ]
  },
  {
   "cell_type": "code",
   "execution_count": 32,
   "metadata": {},
   "outputs": [],
   "source": [
    "data_train, data_test, target_train, target_test = train_test_split(\n",
    "    relief_data, target_relief, random_state=42\n",
    ")"
   ]
  },
  {
   "cell_type": "code",
   "execution_count": 33,
   "metadata": {},
   "outputs": [
    {
     "name": "stdout",
     "output_type": "stream",
     "text": [
      "The mean cross-validation accuracy is: 0.354 ± 0.004\n"
     ]
    }
   ],
   "source": [
    "_ = model.fit(data_train, target_train)\n",
    "cv_results = cross_validate(model, relief_data, target_relief, cv=5)\n",
    "scores = cv_results[\"test_score\"]\n",
    "print(\n",
    "    \"The mean cross-validation accuracy is: \"\n",
    "    f\"{scores.mean():.3f} ± {scores.std():.3f}\"\n",
    ")"
   ]
  },
  {
   "cell_type": "code",
   "execution_count": null,
   "metadata": {},
   "outputs": [],
   "source": []
  }
 ],
 "metadata": {
  "kernelspec": {
   "display_name": "Python 3",
   "language": "python",
   "name": "python3"
  },
  "language_info": {
   "codemirror_mode": {
    "name": "ipython",
    "version": 3
   },
   "file_extension": ".py",
   "mimetype": "text/x-python",
   "name": "python",
   "nbconvert_exporter": "python",
   "pygments_lexer": "ipython3",
   "version": "3.7.9"
  },
  "orig_nbformat": 4
 },
 "nbformat": 4,
 "nbformat_minor": 2
}
