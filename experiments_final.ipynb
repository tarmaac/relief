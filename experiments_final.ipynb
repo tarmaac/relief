{
 "cells": [
  {
   "attachments": {},
   "cell_type": "markdown",
   "metadata": {},
   "source": [
    "## INSTALLING PACKAGES AND LIBRARIES"
   ]
  },
  {
   "cell_type": "code",
   "execution_count": 1,
   "metadata": {},
   "outputs": [
    {
     "name": "stdout",
     "output_type": "stream",
     "text": [
      "Requirement already up-to-date: sentence-transformers in c:\\users\\augus\\appdata\\local\\programs\\python\\python37\\lib\\site-packages (2.2.2)\n",
      "Requirement already satisfied, skipping upgrade: transformers<5.0.0,>=4.6.0 in c:\\users\\augus\\appdata\\local\\programs\\python\\python37\\lib\\site-packages (from sentence-transformers) (4.28.1)\n",
      "Requirement already satisfied, skipping upgrade: tqdm in c:\\users\\augus\\appdata\\local\\programs\\python\\python37\\lib\\site-packages (from sentence-transformers) (4.65.0)\n",
      "Requirement already satisfied, skipping upgrade: torch>=1.6.0 in c:\\users\\augus\\appdata\\local\\programs\\python\\python37\\lib\\site-packages (from sentence-transformers) (1.13.1)\n",
      "Requirement already satisfied, skipping upgrade: torchvision in c:\\users\\augus\\appdata\\local\\programs\\python\\python37\\lib\\site-packages (from sentence-transformers) (0.14.1)\n",
      "Requirement already satisfied, skipping upgrade: numpy in c:\\users\\augus\\appdata\\local\\programs\\python\\python37\\lib\\site-packages (from sentence-transformers) (1.21.6)\n",
      "Requirement already satisfied, skipping upgrade: scikit-learn in c:\\users\\augus\\appdata\\local\\programs\\python\\python37\\lib\\site-packages (from sentence-transformers) (1.0.2)\n",
      "Requirement already satisfied, skipping upgrade: scipy in c:\\users\\augus\\appdata\\local\\programs\\python\\python37\\lib\\site-packages (from sentence-transformers) (1.7.3)\n",
      "Requirement already satisfied, skipping upgrade: nltk in c:\\users\\augus\\appdata\\local\\programs\\python\\python37\\lib\\site-packages (from sentence-transformers) (3.8.1)\n",
      "Requirement already satisfied, skipping upgrade: sentencepiece in c:\\users\\augus\\appdata\\local\\programs\\python\\python37\\lib\\site-packages (from sentence-transformers) (0.1.99)\n",
      "Requirement already satisfied, skipping upgrade: huggingface-hub>=0.4.0 in c:\\users\\augus\\appdata\\local\\programs\\python\\python37\\lib\\site-packages (from sentence-transformers) (0.14.1)\n",
      "Requirement already satisfied, skipping upgrade: filelock in c:\\users\\augus\\appdata\\local\\programs\\python\\python37\\lib\\site-packages (from transformers<5.0.0,>=4.6.0->sentence-transformers) (3.12.0)\n",
      "Requirement already satisfied, skipping upgrade: regex!=2019.12.17 in c:\\users\\augus\\appdata\\local\\programs\\python\\python37\\lib\\site-packages (from transformers<5.0.0,>=4.6.0->sentence-transformers) (2023.5.5)\n",
      "Requirement already satisfied, skipping upgrade: tokenizers!=0.11.3,<0.14,>=0.11.1 in c:\\users\\augus\\appdata\\local\\programs\\python\\python37\\lib\\site-packages (from transformers<5.0.0,>=4.6.0->sentence-transformers) (0.13.3)\n",
      "Requirement already satisfied, skipping upgrade: packaging>=20.0 in c:\\users\\augus\\appdata\\local\\programs\\python\\python37\\lib\\site-packages (from transformers<5.0.0,>=4.6.0->sentence-transformers) (23.1)\n",
      "Requirement already satisfied, skipping upgrade: pyyaml>=5.1 in c:\\users\\augus\\appdata\\local\\programs\\python\\python37\\lib\\site-packages (from transformers<5.0.0,>=4.6.0->sentence-transformers) (6.0)\n",
      "Requirement already satisfied, skipping upgrade: requests in c:\\users\\augus\\appdata\\local\\programs\\python\\python37\\lib\\site-packages (from transformers<5.0.0,>=4.6.0->sentence-transformers) (2.29.0)\n",
      "Requirement already satisfied, skipping upgrade: importlib-metadata; python_version < \"3.8\" in c:\\users\\augus\\appdata\\local\\programs\\python\\python37\\lib\\site-packages (from transformers<5.0.0,>=4.6.0->sentence-transformers) (6.6.0)\n",
      "Requirement already satisfied, skipping upgrade: colorama; platform_system == \"Windows\" in c:\\users\\augus\\appdata\\roaming\\python\\python37\\site-packages (from tqdm->sentence-transformers) (0.4.1)\n",
      "Requirement already satisfied, skipping upgrade: typing-extensions in c:\\users\\augus\\appdata\\local\\programs\\python\\python37\\lib\\site-packages (from torch>=1.6.0->sentence-transformers) (4.5.0)\n",
      "Requirement already satisfied, skipping upgrade: pillow!=8.3.*,>=5.3.0 in c:\\users\\augus\\appdata\\local\\programs\\python\\python37\\lib\\site-packages (from torchvision->sentence-transformers) (9.5.0)\n",
      "Requirement already satisfied, skipping upgrade: threadpoolctl>=2.0.0 in c:\\users\\augus\\appdata\\local\\programs\\python\\python37\\lib\\site-packages (from scikit-learn->sentence-transformers) (3.1.0)\n",
      "Requirement already satisfied, skipping upgrade: joblib>=0.11 in c:\\users\\augus\\appdata\\local\\programs\\python\\python37\\lib\\site-packages (from scikit-learn->sentence-transformers) (1.2.0)\n",
      "Requirement already satisfied, skipping upgrade: click in c:\\users\\augus\\appdata\\local\\programs\\python\\python37\\lib\\site-packages (from nltk->sentence-transformers) (8.1.3)\n",
      "Requirement already satisfied, skipping upgrade: fsspec in c:\\users\\augus\\appdata\\local\\programs\\python\\python37\\lib\\site-packages (from huggingface-hub>=0.4.0->sentence-transformers) (2023.1.0)\n",
      "Requirement already satisfied, skipping upgrade: charset-normalizer<4,>=2 in c:\\users\\augus\\appdata\\local\\programs\\python\\python37\\lib\\site-packages (from requests->transformers<5.0.0,>=4.6.0->sentence-transformers) (3.1.0)\n",
      "Requirement already satisfied, skipping upgrade: urllib3<1.27,>=1.21.1 in c:\\users\\augus\\appdata\\local\\programs\\python\\python37\\lib\\site-packages (from requests->transformers<5.0.0,>=4.6.0->sentence-transformers) (1.26.15)\n",
      "Requirement already satisfied, skipping upgrade: certifi>=2017.4.17 in c:\\users\\augus\\appdata\\local\\programs\\python\\python37\\lib\\site-packages (from requests->transformers<5.0.0,>=4.6.0->sentence-transformers) (2022.12.7)\n",
      "Requirement already satisfied, skipping upgrade: idna<4,>=2.5 in c:\\users\\augus\\appdata\\local\\programs\\python\\python37\\lib\\site-packages (from requests->transformers<5.0.0,>=4.6.0->sentence-transformers) (3.4)\n",
      "Requirement already satisfied, skipping upgrade: zipp>=0.5 in c:\\users\\augus\\appdata\\local\\programs\\python\\python37\\lib\\site-packages (from importlib-metadata; python_version < \"3.8\"->transformers<5.0.0,>=4.6.0->sentence-transformers) (3.15.0)\n"
     ]
    },
    {
     "name": "stderr",
     "output_type": "stream",
     "text": [
      "WARNING: You are using pip version 20.1.1; however, version 23.2.1 is available.\n",
      "You should consider upgrading via the 'c:\\Users\\augus\\AppData\\Local\\Programs\\Python\\Python37\\python.exe -m pip install --upgrade pip' command.\n"
     ]
    },
    {
     "name": "stdout",
     "output_type": "stream",
     "text": [
      "Requirement already satisfied: seaborn in c:\\users\\augus\\appdata\\local\\programs\\python\\python37\\lib\\site-packages (0.12.2)\n",
      "Requirement already satisfied: numpy!=1.24.0,>=1.17 in c:\\users\\augus\\appdata\\local\\programs\\python\\python37\\lib\\site-packages (from seaborn) (1.21.6)\n",
      "Requirement already satisfied: typing_extensions; python_version < \"3.8\" in c:\\users\\augus\\appdata\\local\\programs\\python\\python37\\lib\\site-packages (from seaborn) (4.5.0)\n",
      "Requirement already satisfied: matplotlib!=3.6.1,>=3.1 in c:\\users\\augus\\appdata\\local\\programs\\python\\python37\\lib\\site-packages (from seaborn) (3.5.3)\n",
      "Requirement already satisfied: pandas>=0.25 in c:\\users\\augus\\appdata\\local\\programs\\python\\python37\\lib\\site-packages (from seaborn) (1.3.5)\n",
      "Requirement already satisfied: fonttools>=4.22.0 in c:\\users\\augus\\appdata\\local\\programs\\python\\python37\\lib\\site-packages (from matplotlib!=3.6.1,>=3.1->seaborn) (4.38.0)\n",
      "Requirement already satisfied: kiwisolver>=1.0.1 in c:\\users\\augus\\appdata\\local\\programs\\python\\python37\\lib\\site-packages (from matplotlib!=3.6.1,>=3.1->seaborn) (1.4.4)\n",
      "Requirement already satisfied: packaging>=20.0 in c:\\users\\augus\\appdata\\local\\programs\\python\\python37\\lib\\site-packages (from matplotlib!=3.6.1,>=3.1->seaborn) (23.1)\n",
      "Requirement already satisfied: cycler>=0.10 in c:\\users\\augus\\appdata\\local\\programs\\python\\python37\\lib\\site-packages (from matplotlib!=3.6.1,>=3.1->seaborn) (0.11.0)\n",
      "Requirement already satisfied: python-dateutil>=2.7 in c:\\users\\augus\\appdata\\local\\programs\\python\\python37\\lib\\site-packages (from matplotlib!=3.6.1,>=3.1->seaborn) (2.8.2)\n",
      "Requirement already satisfied: pillow>=6.2.0 in c:\\users\\augus\\appdata\\local\\programs\\python\\python37\\lib\\site-packages (from matplotlib!=3.6.1,>=3.1->seaborn) (9.5.0)\n",
      "Requirement already satisfied: pyparsing>=2.2.1 in c:\\users\\augus\\appdata\\local\\programs\\python\\python37\\lib\\site-packages (from matplotlib!=3.6.1,>=3.1->seaborn) (3.0.9)\n",
      "Requirement already satisfied: pytz>=2017.3 in c:\\users\\augus\\appdata\\local\\programs\\python\\python37\\lib\\site-packages (from pandas>=0.25->seaborn) (2023.3)\n",
      "Requirement already satisfied: six>=1.5 in c:\\users\\augus\\appdata\\roaming\\python\\python37\\site-packages (from python-dateutil>=2.7->matplotlib!=3.6.1,>=3.1->seaborn) (1.12.0)\n"
     ]
    },
    {
     "name": "stderr",
     "output_type": "stream",
     "text": [
      "WARNING: You are using pip version 20.1.1; however, version 23.2.1 is available.\n",
      "You should consider upgrading via the 'c:\\Users\\augus\\AppData\\Local\\Programs\\Python\\Python37\\python.exe -m pip install --upgrade pip' command.\n"
     ]
    },
    {
     "name": "stdout",
     "output_type": "stream",
     "text": [
      "Requirement already satisfied: tqdm in c:\\users\\augus\\appdata\\local\\programs\\python\\python37\\lib\\site-packages (4.65.0)\n",
      "Requirement already satisfied: colorama; platform_system == \"Windows\" in c:\\users\\augus\\appdata\\roaming\\python\\python37\\site-packages (from tqdm) (0.4.1)\n"
     ]
    },
    {
     "name": "stderr",
     "output_type": "stream",
     "text": [
      "WARNING: You are using pip version 20.1.1; however, version 23.2.1 is available.\n",
      "You should consider upgrading via the 'c:\\Users\\augus\\AppData\\Local\\Programs\\Python\\Python37\\python.exe -m pip install --upgrade pip' command.\n"
     ]
    }
   ],
   "source": [
    "# Install a pip package in the current Jupyter kernel\n",
    "import sys\n",
    "!{sys.executable} -m pip install -U sentence-transformers\n",
    "!{sys.executable} -m pip install seaborn\n",
    "!{sys.executable} -m pip install tqdm"
   ]
  },
  {
   "cell_type": "code",
   "execution_count": 2,
   "metadata": {},
   "outputs": [
    {
     "name": "stderr",
     "output_type": "stream",
     "text": [
      "c:\\Users\\augus\\AppData\\Local\\Programs\\Python\\Python37\\lib\\site-packages\\tqdm\\auto.py:21: TqdmWarning: IProgress not found. Please update jupyter and ipywidgets. See https://ipywidgets.readthedocs.io/en/stable/user_install.html\n",
      "  from .autonotebook import tqdm as notebook_tqdm\n"
     ]
    }
   ],
   "source": [
    "import relief\n",
    "import utils\n",
    "import pandas as pd\n",
    "import numpy as np\n",
    "\n",
    "# Visualization\n",
    "from tqdm import tqdm\n",
    "import matplotlib as mpl\n",
    "import matplotlib.pyplot as plt\n",
    "import seaborn as sns\n",
    "%matplotlib inline\n",
    "# Set Plot Theme\n",
    "sns.set_palette([\n",
    "    \"#30a2da\",\n",
    "    \"#fc4f30\",\n",
    "    \"#e5ae38\",\n",
    "    \"#6d904f\",\n",
    "    \"#8b8b8b\",\n",
    "])\n",
    "# Warnings\n",
    "import warnings\n",
    "warnings.filterwarnings('ignore')"
   ]
  },
  {
   "attachments": {},
   "cell_type": "markdown",
   "metadata": {},
   "source": [
    "## WOMEN E COMMERCE"
   ]
  },
  {
   "cell_type": "code",
   "execution_count": null,
   "metadata": {},
   "outputs": [],
   "source": [
    "df = pd.read_csv(r\"C:\\Users\\augus\\Desktop\\projectTesis\\datasets\\women_e_commerce\\Womens Clothing E-Commerce Reviews.csv\")\n",
    "df.head()"
   ]
  },
  {
   "attachments": {},
   "cell_type": "markdown",
   "metadata": {},
   "source": [
    "Preproccesing steps:"
   ]
  },
  {
   "cell_type": "code",
   "execution_count": null,
   "metadata": {},
   "outputs": [],
   "source": [
    "# contain redundant information about the index of the dataset\n",
    "df = df.drop(columns = \"Unnamed: 0\")\n",
    "# reformat the column names\n",
    "df.columns = (df.columns\n",
    "                .str.replace(' ', '_')\n",
    "                .str.lower()\n",
    "             )\n",
    "print(df.columns)\n",
    "df.shape"
   ]
  },
  {
   "cell_type": "code",
   "execution_count": null,
   "metadata": {},
   "outputs": [],
   "source": [
    "df.info()"
   ]
  },
  {
   "cell_type": "code",
   "execution_count": null,
   "metadata": {},
   "outputs": [],
   "source": [
    "total_rows = len(df)\n",
    "missing_rows = df['review_text'].isna().sum()\n",
    "missing_rows_title = df['title'].isna().sum()\n",
    "\n",
    "percentage_missing = (missing_rows / total_rows) * 100\n",
    "percentage_missing_title = (missing_rows_title/total_rows)*100\n",
    "print(f'Percentage of Missing Values for review text column: {percentage_missing:.2f}%')\n",
    "print(f'Percentage of Missing Values for title column: {percentage_missing_title:.2f}%')\n",
    "\n",
    "# Drop rows with missing values\n",
    "df = df.dropna(subset=['review_text'])\n",
    "#drop column review title.\n",
    "df = df.drop(columns = \"title\")"
   ]
  },
  {
   "attachments": {},
   "cell_type": "markdown",
   "metadata": {},
   "source": [
    "Since the percentage of missing values for the Review text column is 3.60% we drop those samples from the dataset.    \n",
    "As a rule of thumb: Drop rows if they represent less than 10% of the original dataset. \n",
    "\n",
    "In the case for the title column, it has 16.22% of missing values, and it contains only small text summarizing the actual review for that reason we drop the column.\n"
   ]
  },
  {
   "cell_type": "code",
   "execution_count": null,
   "metadata": {},
   "outputs": [],
   "source": [
    "df.isna().sum()"
   ]
  },
  {
   "cell_type": "code",
   "execution_count": null,
   "metadata": {},
   "outputs": [],
   "source": [
    "df['review_text'] = df['review_text'].astype(str)\n",
    "df.shape"
   ]
  },
  {
   "cell_type": "code",
   "execution_count": null,
   "metadata": {},
   "outputs": [],
   "source": [
    "unique_division_name = df['division_name'].unique()\n",
    "unique_department_name = df['department_name'].unique()\n",
    "unique_class_name = df['class_name'].unique()\n",
    "\n",
    "# Replacing \"Initmitates\" with \"Intimates\" in 'text_column'\n",
    "df['division_name'] = df['division_name'].str.replace('Initmates', 'Intimates')\n",
    "df['department_name'] = df['department_name'].str.replace('Intimate', 'Intimates')\n",
    "\n",
    "# Convert 'category_column' to the 'category' data type\n",
    "df['division_name'] = df['division_name'].astype('category')\n",
    "df['department_name'] = df['department_name'].astype('category')\n",
    "df['class_name'] = df['class_name'].astype('category')\n",
    "\n",
    "print(\"Unique values in the unique_division_name:\", unique_division_name)\n",
    "print(\"Unique values in the unique_department_name:\", unique_department_name)\n",
    "print(\"Unique values in the unique_class_name:\", unique_class_name)"
   ]
  },
  {
   "cell_type": "code",
   "execution_count": null,
   "metadata": {},
   "outputs": [],
   "source": [
    "# the label is recommmended_ind, the rest are the features.\n",
    "y = df.pop(\"recommended_ind\")"
   ]
  },
  {
   "attachments": {},
   "cell_type": "markdown",
   "metadata": {},
   "source": [
    "The clothing_id is a numberical identifier for a particular clothing item, a named category hence we are going to their it as a categorical value.  \n",
    "The rating: integer values from 1 to 5, since their values holds an implied order, we are going to treat as numerical.  \n",
    "recommended_ind: is the target label."
   ]
  },
  {
   "cell_type": "code",
   "execution_count": null,
   "metadata": {},
   "outputs": [],
   "source": [
    "# only 3 types: numerical, nominal and text in the same order as the dataframe\n",
    "relief_column_types = [\"nominal\", \"numerical\", \"text\", \"numerical\", \"numerical\", \"nominal\", \"nominal\",\"nominal\"]"
   ]
  },
  {
   "cell_type": "code",
   "execution_count": null,
   "metadata": {},
   "outputs": [],
   "source": [
    "#eventhough it is a binary classification problem we hand to hand the missing values and be more robust using K=10 instead of 1.\n",
    "#relief( m: int, algorithm: str, text_distance_funct: str = \"sbert\", k=10)\n",
    "relief_women = relief.Relief(2,\"ReliefF\")"
   ]
  },
  {
   "cell_type": "code",
   "execution_count": null,
   "metadata": {},
   "outputs": [],
   "source": [
    "df = df.head(1000)\n",
    "relief_women.fit(df, y, relief_column_types)"
   ]
  },
  {
   "cell_type": "code",
   "execution_count": null,
   "metadata": {},
   "outputs": [],
   "source": [
    "relief_women.history"
   ]
  },
  {
   "cell_type": "code",
   "execution_count": null,
   "metadata": {},
   "outputs": [],
   "source": [
    "plt.bar(df.columns, relief_women.weights)\n",
    "# Add labels and title\n",
    "plt.xlabel('attributes')\n",
    "plt.ylabel('quality estimation')\n",
    "plt.title('ReliefF estimations')"
   ]
  },
  {
   "attachments": {},
   "cell_type": "markdown",
   "metadata": {},
   "source": [
    "## 2nd DATASET - PETFINDER MULTICLASSIFICATION"
   ]
  },
  {
   "cell_type": "code",
   "execution_count": 3,
   "metadata": {},
   "outputs": [
    {
     "data": {
      "text/html": [
       "<div>\n",
       "<style scoped>\n",
       "    .dataframe tbody tr th:only-of-type {\n",
       "        vertical-align: middle;\n",
       "    }\n",
       "\n",
       "    .dataframe tbody tr th {\n",
       "        vertical-align: top;\n",
       "    }\n",
       "\n",
       "    .dataframe thead th {\n",
       "        text-align: right;\n",
       "    }\n",
       "</style>\n",
       "<table border=\"1\" class=\"dataframe\">\n",
       "  <thead>\n",
       "    <tr style=\"text-align: right;\">\n",
       "      <th></th>\n",
       "      <th>Unnamed: 0</th>\n",
       "      <th>Unnamed: 0.1</th>\n",
       "      <th>Type</th>\n",
       "      <th>Name</th>\n",
       "      <th>Age</th>\n",
       "      <th>Breed1</th>\n",
       "      <th>Breed2</th>\n",
       "      <th>Gender</th>\n",
       "      <th>Color1</th>\n",
       "      <th>Color2</th>\n",
       "      <th>Color3</th>\n",
       "      <th>MaturitySize</th>\n",
       "      <th>FurLength</th>\n",
       "      <th>Vaccinated</th>\n",
       "      <th>Dewormed</th>\n",
       "      <th>Sterilized</th>\n",
       "      <th>Health</th>\n",
       "      <th>Quantity</th>\n",
       "      <th>Fee</th>\n",
       "      <th>State</th>\n",
       "      <th>RescuerID</th>\n",
       "      <th>VideoAmt</th>\n",
       "      <th>Description</th>\n",
       "      <th>PetID</th>\n",
       "      <th>PhotoAmt</th>\n",
       "      <th>AdoptionSpeed</th>\n",
       "    </tr>\n",
       "  </thead>\n",
       "  <tbody>\n",
       "    <tr>\n",
       "      <th>0</th>\n",
       "      <td>10318</td>\n",
       "      <td>10318</td>\n",
       "      <td>2</td>\n",
       "      <td>Xiao Li</td>\n",
       "      <td>2</td>\n",
       "      <td>Domestic Short Hair</td>\n",
       "      <td>NaN</td>\n",
       "      <td>2</td>\n",
       "      <td>Brown</td>\n",
       "      <td>White</td>\n",
       "      <td>NaN</td>\n",
       "      <td>2</td>\n",
       "      <td>1</td>\n",
       "      <td>2</td>\n",
       "      <td>1</td>\n",
       "      <td>2</td>\n",
       "      <td>1</td>\n",
       "      <td>1</td>\n",
       "      <td>0</td>\n",
       "      <td>Selangor</td>\n",
       "      <td>744fa4278196568a18fcf5cd7d324ed2</td>\n",
       "      <td>0</td>\n",
       "      <td>Xiao Li was rescued when the local council rai...</td>\n",
       "      <td>d5c68b3bf</td>\n",
       "      <td>4.0</td>\n",
       "      <td>3</td>\n",
       "    </tr>\n",
       "    <tr>\n",
       "      <th>1</th>\n",
       "      <td>9789</td>\n",
       "      <td>9789</td>\n",
       "      <td>1</td>\n",
       "      <td>Puppy Girl</td>\n",
       "      <td>3</td>\n",
       "      <td>Mixed Breed</td>\n",
       "      <td>Rottweiler</td>\n",
       "      <td>2</td>\n",
       "      <td>Black</td>\n",
       "      <td>Brown</td>\n",
       "      <td>NaN</td>\n",
       "      <td>2</td>\n",
       "      <td>1</td>\n",
       "      <td>1</td>\n",
       "      <td>1</td>\n",
       "      <td>2</td>\n",
       "      <td>1</td>\n",
       "      <td>1</td>\n",
       "      <td>0</td>\n",
       "      <td>Kuala Lumpur</td>\n",
       "      <td>b770bac0ca797cf1433c48a35d30c4cb</td>\n",
       "      <td>0</td>\n",
       "      <td>Active and healthy. Already vaccine and deworm...</td>\n",
       "      <td>b968b85c1</td>\n",
       "      <td>2.0</td>\n",
       "      <td>3</td>\n",
       "    </tr>\n",
       "    <tr>\n",
       "      <th>2</th>\n",
       "      <td>11994</td>\n",
       "      <td>11994</td>\n",
       "      <td>2</td>\n",
       "      <td>Cookie And Cream</td>\n",
       "      <td>2</td>\n",
       "      <td>Domestic Short Hair</td>\n",
       "      <td>NaN</td>\n",
       "      <td>3</td>\n",
       "      <td>Yellow</td>\n",
       "      <td>Cream</td>\n",
       "      <td>White</td>\n",
       "      <td>1</td>\n",
       "      <td>1</td>\n",
       "      <td>2</td>\n",
       "      <td>1</td>\n",
       "      <td>2</td>\n",
       "      <td>1</td>\n",
       "      <td>2</td>\n",
       "      <td>0</td>\n",
       "      <td>Selangor</td>\n",
       "      <td>3b36a2f0ba551f7d0276cd1741369c37</td>\n",
       "      <td>0</td>\n",
       "      <td>These kittens were found behind the alley of m...</td>\n",
       "      <td>0cf645af3</td>\n",
       "      <td>3.0</td>\n",
       "      <td>1</td>\n",
       "    </tr>\n",
       "    <tr>\n",
       "      <th>3</th>\n",
       "      <td>5451</td>\n",
       "      <td>5451</td>\n",
       "      <td>1</td>\n",
       "      <td>Suki</td>\n",
       "      <td>36</td>\n",
       "      <td>Maltese</td>\n",
       "      <td>Poodle</td>\n",
       "      <td>2</td>\n",
       "      <td>White</td>\n",
       "      <td>NaN</td>\n",
       "      <td>NaN</td>\n",
       "      <td>1</td>\n",
       "      <td>2</td>\n",
       "      <td>1</td>\n",
       "      <td>1</td>\n",
       "      <td>1</td>\n",
       "      <td>1</td>\n",
       "      <td>1</td>\n",
       "      <td>100</td>\n",
       "      <td>Selangor</td>\n",
       "      <td>a63ec365c8c0d28ff01d2cb1b31406cb</td>\n",
       "      <td>0</td>\n",
       "      <td>Friendly..loving..love to play..potty trained</td>\n",
       "      <td>804e56f9b</td>\n",
       "      <td>4.0</td>\n",
       "      <td>1</td>\n",
       "    </tr>\n",
       "    <tr>\n",
       "      <th>4</th>\n",
       "      <td>9845</td>\n",
       "      <td>9845</td>\n",
       "      <td>1</td>\n",
       "      <td>A3</td>\n",
       "      <td>1</td>\n",
       "      <td>Mixed Breed</td>\n",
       "      <td>Mixed Breed</td>\n",
       "      <td>1</td>\n",
       "      <td>Black</td>\n",
       "      <td>NaN</td>\n",
       "      <td>NaN</td>\n",
       "      <td>2</td>\n",
       "      <td>2</td>\n",
       "      <td>2</td>\n",
       "      <td>1</td>\n",
       "      <td>2</td>\n",
       "      <td>1</td>\n",
       "      <td>1</td>\n",
       "      <td>0</td>\n",
       "      <td>Selangor</td>\n",
       "      <td>eba983b85e34963999d476ccada91619</td>\n",
       "      <td>0</td>\n",
       "      <td>For Adoption</td>\n",
       "      <td>b414c5dd9</td>\n",
       "      <td>3.0</td>\n",
       "      <td>1</td>\n",
       "    </tr>\n",
       "  </tbody>\n",
       "</table>\n",
       "</div>"
      ],
      "text/plain": [
       "   Unnamed: 0  Unnamed: 0.1  Type              Name  Age               Breed1  \\\n",
       "0       10318         10318     2           Xiao Li    2  Domestic Short Hair   \n",
       "1        9789          9789     1        Puppy Girl    3          Mixed Breed   \n",
       "2       11994         11994     2  Cookie And Cream    2  Domestic Short Hair   \n",
       "3        5451          5451     1              Suki   36              Maltese   \n",
       "4        9845          9845     1                A3    1          Mixed Breed   \n",
       "\n",
       "        Breed2  Gender  Color1 Color2 Color3  MaturitySize  FurLength  \\\n",
       "0          NaN       2   Brown  White    NaN             2          1   \n",
       "1   Rottweiler       2   Black  Brown    NaN             2          1   \n",
       "2          NaN       3  Yellow  Cream  White             1          1   \n",
       "3       Poodle       2   White    NaN    NaN             1          2   \n",
       "4  Mixed Breed       1   Black    NaN    NaN             2          2   \n",
       "\n",
       "   Vaccinated  Dewormed  Sterilized  Health  Quantity  Fee         State  \\\n",
       "0           2         1           2       1         1    0      Selangor   \n",
       "1           1         1           2       1         1    0  Kuala Lumpur   \n",
       "2           2         1           2       1         2    0      Selangor   \n",
       "3           1         1           1       1         1  100      Selangor   \n",
       "4           2         1           2       1         1    0      Selangor   \n",
       "\n",
       "                          RescuerID  VideoAmt  \\\n",
       "0  744fa4278196568a18fcf5cd7d324ed2         0   \n",
       "1  b770bac0ca797cf1433c48a35d30c4cb         0   \n",
       "2  3b36a2f0ba551f7d0276cd1741369c37         0   \n",
       "3  a63ec365c8c0d28ff01d2cb1b31406cb         0   \n",
       "4  eba983b85e34963999d476ccada91619         0   \n",
       "\n",
       "                                         Description      PetID  PhotoAmt  \\\n",
       "0  Xiao Li was rescued when the local council rai...  d5c68b3bf       4.0   \n",
       "1  Active and healthy. Already vaccine and deworm...  b968b85c1       2.0   \n",
       "2  These kittens were found behind the alley of m...  0cf645af3       3.0   \n",
       "3      Friendly..loving..love to play..potty trained  804e56f9b       4.0   \n",
       "4                                       For Adoption  b414c5dd9       3.0   \n",
       "\n",
       "   AdoptionSpeed  \n",
       "0              3  \n",
       "1              3  \n",
       "2              1  \n",
       "3              1  \n",
       "4              1  "
      ]
     },
     "execution_count": 3,
     "metadata": {},
     "output_type": "execute_result"
    }
   ],
   "source": [
    "# set the max columns to none\n",
    "pd.set_option('display.max_columns', None)\n",
    "df = pd.read_csv(r\"C:\\Users\\augus\\Desktop\\projectTesis\\datasets\\train_pet_finder.csv\")\n",
    "df.head()"
   ]
  },
  {
   "cell_type": "code",
   "execution_count": 4,
   "metadata": {},
   "outputs": [
    {
     "name": "stdout",
     "output_type": "stream",
     "text": [
      "Index(['Unnamed: 0', 'Unnamed: 0.1', 'Type', 'Name', 'Age', 'Breed1', 'Breed2',\n",
      "       'Gender', 'Color1', 'Color2', 'Color3', 'MaturitySize', 'FurLength',\n",
      "       'Vaccinated', 'Dewormed', 'Sterilized', 'Health', 'Quantity', 'Fee',\n",
      "       'State', 'RescuerID', 'VideoAmt', 'Description', 'PetID', 'PhotoAmt',\n",
      "       'AdoptionSpeed'],\n",
      "      dtype='object')\n",
      "(11993, 26)\n"
     ]
    }
   ],
   "source": [
    "print(df.columns)\n",
    "print(df.shape)"
   ]
  },
  {
   "cell_type": "code",
   "execution_count": 5,
   "metadata": {},
   "outputs": [
    {
     "data": {
      "text/html": [
       "<div>\n",
       "<style scoped>\n",
       "    .dataframe tbody tr th:only-of-type {\n",
       "        vertical-align: middle;\n",
       "    }\n",
       "\n",
       "    .dataframe tbody tr th {\n",
       "        vertical-align: top;\n",
       "    }\n",
       "\n",
       "    .dataframe thead th {\n",
       "        text-align: right;\n",
       "    }\n",
       "</style>\n",
       "<table border=\"1\" class=\"dataframe\">\n",
       "  <thead>\n",
       "    <tr style=\"text-align: right;\">\n",
       "      <th>Column</th>\n",
       "      <th>Unnamed: 0</th>\n",
       "      <th>Unnamed: 0.1</th>\n",
       "      <th>Type</th>\n",
       "      <th>Name</th>\n",
       "      <th>Age</th>\n",
       "      <th>Breed1</th>\n",
       "      <th>Breed2</th>\n",
       "      <th>Gender</th>\n",
       "      <th>Color1</th>\n",
       "      <th>Color2</th>\n",
       "      <th>Color3</th>\n",
       "      <th>MaturitySize</th>\n",
       "      <th>FurLength</th>\n",
       "      <th>Vaccinated</th>\n",
       "      <th>Dewormed</th>\n",
       "      <th>Sterilized</th>\n",
       "      <th>Health</th>\n",
       "      <th>Quantity</th>\n",
       "      <th>Fee</th>\n",
       "      <th>State</th>\n",
       "      <th>RescuerID</th>\n",
       "      <th>VideoAmt</th>\n",
       "      <th>Description</th>\n",
       "      <th>PetID</th>\n",
       "      <th>PhotoAmt</th>\n",
       "      <th>AdoptionSpeed</th>\n",
       "    </tr>\n",
       "  </thead>\n",
       "  <tbody>\n",
       "    <tr>\n",
       "      <th>Unique</th>\n",
       "      <td>11993</td>\n",
       "      <td>11993</td>\n",
       "      <td>2</td>\n",
       "      <td>7488</td>\n",
       "      <td>104</td>\n",
       "      <td>165</td>\n",
       "      <td>127</td>\n",
       "      <td>3</td>\n",
       "      <td>7</td>\n",
       "      <td>7</td>\n",
       "      <td>6</td>\n",
       "      <td>4</td>\n",
       "      <td>3</td>\n",
       "      <td>3</td>\n",
       "      <td>3</td>\n",
       "      <td>3</td>\n",
       "      <td>3</td>\n",
       "      <td>19</td>\n",
       "      <td>65</td>\n",
       "      <td>14</td>\n",
       "      <td>4781</td>\n",
       "      <td>9</td>\n",
       "      <td>11254</td>\n",
       "      <td>11993</td>\n",
       "      <td>31</td>\n",
       "      <td>5</td>\n",
       "    </tr>\n",
       "    <tr>\n",
       "      <th>Missing</th>\n",
       "      <td>0</td>\n",
       "      <td>0</td>\n",
       "      <td>0</td>\n",
       "      <td>1000</td>\n",
       "      <td>0</td>\n",
       "      <td>4</td>\n",
       "      <td>8625</td>\n",
       "      <td>0</td>\n",
       "      <td>0</td>\n",
       "      <td>3538</td>\n",
       "      <td>8442</td>\n",
       "      <td>0</td>\n",
       "      <td>0</td>\n",
       "      <td>0</td>\n",
       "      <td>0</td>\n",
       "      <td>0</td>\n",
       "      <td>0</td>\n",
       "      <td>0</td>\n",
       "      <td>0</td>\n",
       "      <td>0</td>\n",
       "      <td>0</td>\n",
       "      <td>0</td>\n",
       "      <td>7</td>\n",
       "      <td>0</td>\n",
       "      <td>0</td>\n",
       "      <td>0</td>\n",
       "    </tr>\n",
       "  </tbody>\n",
       "</table>\n",
       "</div>"
      ],
      "text/plain": [
       "Column   Unnamed: 0  Unnamed: 0.1  Type  Name  Age  Breed1  Breed2  Gender  \\\n",
       "Unique        11993         11993     2  7488  104     165     127       3   \n",
       "Missing           0             0     0  1000    0       4    8625       0   \n",
       "\n",
       "Column   Color1  Color2  Color3  MaturitySize  FurLength  Vaccinated  \\\n",
       "Unique        7       7       6             4          3           3   \n",
       "Missing       0    3538    8442             0          0           0   \n",
       "\n",
       "Column   Dewormed  Sterilized  Health  Quantity  Fee  State  RescuerID  \\\n",
       "Unique          3           3       3        19   65     14       4781   \n",
       "Missing         0           0       0         0    0      0          0   \n",
       "\n",
       "Column   VideoAmt  Description  PetID  PhotoAmt  AdoptionSpeed  \n",
       "Unique          9        11254  11993        31              5  \n",
       "Missing         0            7      0         0              0  "
      ]
     },
     "execution_count": 5,
     "metadata": {},
     "output_type": "execute_result"
    }
   ],
   "source": [
    "# Extracting Missing Count and Unique Count by Column\n",
    "unique_count = []\n",
    "for x in df.columns:\n",
    "    unique_count.append([x,len(df[x].unique()),df[x].isnull().sum()])\n",
    "pd.DataFrame(unique_count, columns=[\"Column\",\"Unique\",\"Missing\"]).set_index(\"Column\").T"
   ]
  },
  {
   "cell_type": "code",
   "execution_count": 6,
   "metadata": {},
   "outputs": [
    {
     "name": "stdout",
     "output_type": "stream",
     "text": [
      "total amount of memory usage in Bytes: 2494672\n"
     ]
    },
    {
     "data": {
      "text/plain": [
       "Index              128\n",
       "Unnamed: 0       95944\n",
       "Unnamed: 0.1     95944\n",
       "Type             95944\n",
       "Name             95944\n",
       "Age              95944\n",
       "Breed1           95944\n",
       "Breed2           95944\n",
       "Gender           95944\n",
       "Color1           95944\n",
       "Color2           95944\n",
       "Color3           95944\n",
       "MaturitySize     95944\n",
       "FurLength        95944\n",
       "Vaccinated       95944\n",
       "Dewormed         95944\n",
       "Sterilized       95944\n",
       "Health           95944\n",
       "Quantity         95944\n",
       "Fee              95944\n",
       "State            95944\n",
       "RescuerID        95944\n",
       "VideoAmt         95944\n",
       "Description      95944\n",
       "PetID            95944\n",
       "PhotoAmt         95944\n",
       "AdoptionSpeed    95944\n",
       "dtype: int64"
      ]
     },
     "execution_count": 6,
     "metadata": {},
     "output_type": "execute_result"
    }
   ],
   "source": [
    "# memory usage of each column in Bytes.\n",
    "print(f\"total amount of memory usage in Bytes: {df.memory_usage().sum()}\")\n",
    "df.memory_usage()"
   ]
  },
  {
   "cell_type": "code",
   "execution_count": 7,
   "metadata": {},
   "outputs": [
    {
     "data": {
      "text/html": [
       "<div>\n",
       "<style scoped>\n",
       "    .dataframe tbody tr th:only-of-type {\n",
       "        vertical-align: middle;\n",
       "    }\n",
       "\n",
       "    .dataframe tbody tr th {\n",
       "        vertical-align: top;\n",
       "    }\n",
       "\n",
       "    .dataframe thead th {\n",
       "        text-align: right;\n",
       "    }\n",
       "</style>\n",
       "<table border=\"1\" class=\"dataframe\">\n",
       "  <thead>\n",
       "    <tr style=\"text-align: right;\">\n",
       "      <th>Column</th>\n",
       "      <th>Type</th>\n",
       "      <th>Age</th>\n",
       "      <th>Breed1</th>\n",
       "      <th>Gender</th>\n",
       "      <th>Color1</th>\n",
       "      <th>MaturitySize</th>\n",
       "      <th>FurLength</th>\n",
       "      <th>Vaccinated</th>\n",
       "      <th>Dewormed</th>\n",
       "      <th>Sterilized</th>\n",
       "      <th>Health</th>\n",
       "      <th>Quantity</th>\n",
       "      <th>Fee</th>\n",
       "      <th>State</th>\n",
       "      <th>VideoAmt</th>\n",
       "      <th>Description</th>\n",
       "      <th>PhotoAmt</th>\n",
       "      <th>AdoptionSpeed</th>\n",
       "    </tr>\n",
       "  </thead>\n",
       "  <tbody>\n",
       "    <tr>\n",
       "      <th>Unique</th>\n",
       "      <td>2</td>\n",
       "      <td>104</td>\n",
       "      <td>164</td>\n",
       "      <td>3</td>\n",
       "      <td>7</td>\n",
       "      <td>4</td>\n",
       "      <td>3</td>\n",
       "      <td>3</td>\n",
       "      <td>3</td>\n",
       "      <td>3</td>\n",
       "      <td>3</td>\n",
       "      <td>19</td>\n",
       "      <td>65</td>\n",
       "      <td>14</td>\n",
       "      <td>9</td>\n",
       "      <td>11249</td>\n",
       "      <td>31</td>\n",
       "      <td>5</td>\n",
       "    </tr>\n",
       "    <tr>\n",
       "      <th>Missing</th>\n",
       "      <td>0</td>\n",
       "      <td>0</td>\n",
       "      <td>0</td>\n",
       "      <td>0</td>\n",
       "      <td>0</td>\n",
       "      <td>0</td>\n",
       "      <td>0</td>\n",
       "      <td>0</td>\n",
       "      <td>0</td>\n",
       "      <td>0</td>\n",
       "      <td>0</td>\n",
       "      <td>0</td>\n",
       "      <td>0</td>\n",
       "      <td>0</td>\n",
       "      <td>0</td>\n",
       "      <td>0</td>\n",
       "      <td>0</td>\n",
       "      <td>0</td>\n",
       "    </tr>\n",
       "  </tbody>\n",
       "</table>\n",
       "</div>"
      ],
      "text/plain": [
       "Column   Type  Age  Breed1  Gender  Color1  MaturitySize  FurLength  \\\n",
       "Unique      2  104     164       3       7             4          3   \n",
       "Missing     0    0       0       0       0             0          0   \n",
       "\n",
       "Column   Vaccinated  Dewormed  Sterilized  Health  Quantity  Fee  State  \\\n",
       "Unique            3         3           3       3        19   65     14   \n",
       "Missing           0         0           0       0         0    0      0   \n",
       "\n",
       "Column   VideoAmt  Description  PhotoAmt  AdoptionSpeed  \n",
       "Unique          9        11249        31              5  \n",
       "Missing         0            0         0              0  "
      ]
     },
     "execution_count": 7,
     "metadata": {},
     "output_type": "execute_result"
    }
   ],
   "source": [
    "df = df.drop(columns = ['Unnamed: 0', 'Unnamed: 0.1', 'RescuerID', 'PetID', 'Color2', 'Color3', 'Breed2','Name', 'VideoAmt'])\n",
    "# Drop rows with missing values\n",
    "df = df.dropna(subset=['Description'])\n",
    "df = df.dropna(subset=['Breed1'])\n",
    "unique_count = []\n",
    "for x in df.columns:\n",
    "    unique_count.append([x,len(df[x].unique()),df[x].isnull().sum()])\n",
    "pd.DataFrame(unique_count, columns=[\"Column\",\"Unique\",\"Missing\"]).set_index(\"Column\").T"
   ]
  },
  {
   "cell_type": "code",
   "execution_count": 8,
   "metadata": {},
   "outputs": [
    {
     "data": {
      "text/plain": [
       "(11982, 17)"
      ]
     },
     "execution_count": 8,
     "metadata": {},
     "output_type": "execute_result"
    }
   ],
   "source": [
    "# Maturity size, fur length, healhty - categorical but treat it as numerical, since their is an ordinal behavior\n",
    "# treat Breed1 and description as text data type\n",
    "df['Type'] = df['Type'].astype(float)\n",
    "df['Gender'] = df['Gender'].astype(float) \n",
    "df['Color1'] = df['Color1'].astype(str) \n",
    "df['Vaccinated'] = df['Vaccinated'].astype(float) \n",
    "df['Dewormed'] = df['Dewormed'].astype(float) \n",
    "df['Sterilized'] = df['Sterilized'].astype(float)\n",
    " \n",
    "df['State'] = df['State'].astype(str)\n",
    "df['Breed1'] = df['Breed1'].astype(str)\n",
    "df['Description'] = df['Description'].astype(str)\n",
    "\n",
    "# the label is recommmended_ind, the rest are the features.\n",
    "y = df.pop(\"AdoptionSpeed\")\n",
    "df.shape"
   ]
  },
  {
   "cell_type": "code",
   "execution_count": 10,
   "metadata": {},
   "outputs": [
    {
     "name": "stdout",
     "output_type": "stream",
     "text": [
      "The text embeddings for column Breed1 were created.\n",
      "The text embeddings for column Description were created.\n",
      "Starting ReliefF...\n"
     ]
    },
    {
     "name": "stderr",
     "output_type": "stream",
     "text": [
      "5it [00:06,  1.36s/it]"
     ]
    },
    {
     "name": "stdout",
     "output_type": "stream",
     "text": [
      "ReliefF Completed...\n"
     ]
    },
    {
     "name": "stderr",
     "output_type": "stream",
     "text": [
      "\n"
     ]
    },
    {
     "data": {
      "text/plain": [
       "array([[-0.0397585 ,  0.01582021, -0.00657498, -0.01268006, -0.00485146,\n",
       "        -0.02635178, -0.01138491, -0.05036119, -0.01121393,  0.03978628,\n",
       "         0.00689891, -0.03119128, -0.02239989, -0.00167557,         nan,\n",
       "         0.00915175,  0.00324578],\n",
       "       [-0.02735308,  0.0264376 ,  0.00838129,  0.00432098, -0.03783075,\n",
       "         0.00056942,  0.00940185, -0.01532474,  0.02382251,  0.08089469,\n",
       "         0.01436854, -0.01505522, -0.00698263, -0.05710309,         nan,\n",
       "         0.01350341,  0.00112545],\n",
       "       [ 0.00686577,  0.0422067 ,  0.00673804, -0.00835908, -0.01625777,\n",
       "        -0.02578236, -0.00198306, -0.00840232,  0.01260858,  0.12068097,\n",
       "         0.02126745, -0.0462465 , -0.02938252, -0.05707958,         nan,\n",
       "         0.01729954,  0.00296815],\n",
       "       [ 0.04108462,  0.04482051,  0.0050948 , -0.01826504, -0.02110923,\n",
       "        -0.05213415, -0.01336797, -0.05876351,  0.00139464,  0.05745592,\n",
       "         0.02816636, -0.07743778, -0.0517824 , -0.05705607,         nan,\n",
       "         0.01624726, -0.00431759],\n",
       "       [ 0.07530347,  0.04003684,  0.00441465, -0.0309451 ,  0.00046375,\n",
       "        -0.0352908 , -0.0075227 , -0.05184109, -0.00981929,  0.0972422 ,\n",
       "         0.03506527, -0.10862906, -0.06785096, -0.05703256,         nan,\n",
       "         0.01828827, -0.00204061]])"
      ]
     },
     "execution_count": 10,
     "metadata": {},
     "output_type": "execute_result"
    }
   ],
   "source": [
    "# only 3 types: numerical, nominal and text in the same order as the dataframe\n",
    "relief_column_types = [\"nominal\", \"numerical\", \"text\",\"nominal\",\"nominal\",\"numerical\",\"numerical\",\"nominal\",\"nominal\",\"nominal\",\"numerical\", \"numerical\", \"numerical\",\"nominal\",\"numerical\",\"text\",\"numerical\"]\n",
    "\n",
    "#relief( m: int, algorithm: str, text_distance_funct: str = \"sbert\", k=10)\n",
    "relief_pet = relief.Relief(5,\"ReliefF\")\n",
    "df = df.head(100)\n",
    "relief_pet.fit(df, y, relief_column_types)\n",
    "relief_pet.history"
   ]
  },
  {
   "cell_type": "code",
   "execution_count": 14,
   "metadata": {},
   "outputs": [
    {
     "data": {
      "text/plain": [
       "nan"
      ]
     },
     "execution_count": 14,
     "metadata": {},
     "output_type": "execute_result"
    }
   ],
   "source": [
    "relief_pet.history[0][14]"
   ]
  },
  {
   "cell_type": "code",
   "execution_count": null,
   "metadata": {},
   "outputs": [],
   "source": []
  }
 ],
 "metadata": {
  "kernelspec": {
   "display_name": "Python 3",
   "language": "python",
   "name": "python3"
  },
  "language_info": {
   "codemirror_mode": {
    "name": "ipython",
    "version": 3
   },
   "file_extension": ".py",
   "mimetype": "text/x-python",
   "name": "python",
   "nbconvert_exporter": "python",
   "pygments_lexer": "ipython3",
   "version": "3.7.9"
  },
  "orig_nbformat": 4
 },
 "nbformat": 4,
 "nbformat_minor": 2
}
