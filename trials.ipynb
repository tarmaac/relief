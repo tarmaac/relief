{
 "cells": [
  {
   "attachments": {},
   "cell_type": "markdown",
   "metadata": {},
   "source": [
    "# RELATED TO FUNCTION AND TEXT"
   ]
  },
  {
   "cell_type": "code",
   "execution_count": 1,
   "metadata": {},
   "outputs": [
    {
     "name": "stdout",
     "output_type": "stream",
     "text": [
      "Requirement already up-to-date: sentence-transformers in c:\\users\\augus\\appdata\\local\\programs\\python\\python37\\lib\\site-packages (2.2.2)\n",
      "Requirement already satisfied, skipping upgrade: transformers<5.0.0,>=4.6.0 in c:\\users\\augus\\appdata\\local\\programs\\python\\python37\\lib\\site-packages (from sentence-transformers) (4.28.1)\n",
      "Requirement already satisfied, skipping upgrade: tqdm in c:\\users\\augus\\appdata\\local\\programs\\python\\python37\\lib\\site-packages (from sentence-transformers) (4.65.0)\n",
      "Requirement already satisfied, skipping upgrade: torch>=1.6.0 in c:\\users\\augus\\appdata\\local\\programs\\python\\python37\\lib\\site-packages (from sentence-transformers) (1.13.1)\n",
      "Requirement already satisfied, skipping upgrade: torchvision in c:\\users\\augus\\appdata\\local\\programs\\python\\python37\\lib\\site-packages (from sentence-transformers) (0.14.1)\n",
      "Requirement already satisfied, skipping upgrade: numpy in c:\\users\\augus\\appdata\\local\\programs\\python\\python37\\lib\\site-packages (from sentence-transformers) (1.21.6)\n",
      "Requirement already satisfied, skipping upgrade: scikit-learn in c:\\users\\augus\\appdata\\local\\programs\\python\\python37\\lib\\site-packages (from sentence-transformers) (1.0.2)\n",
      "Requirement already satisfied, skipping upgrade: scipy in c:\\users\\augus\\appdata\\local\\programs\\python\\python37\\lib\\site-packages (from sentence-transformers) (1.7.3)\n",
      "Requirement already satisfied, skipping upgrade: nltk in c:\\users\\augus\\appdata\\local\\programs\\python\\python37\\lib\\site-packages (from sentence-transformers) (3.8.1)\n",
      "Requirement already satisfied, skipping upgrade: sentencepiece in c:\\users\\augus\\appdata\\local\\programs\\python\\python37\\lib\\site-packages (from sentence-transformers) (0.1.99)\n",
      "Requirement already satisfied, skipping upgrade: huggingface-hub>=0.4.0 in c:\\users\\augus\\appdata\\local\\programs\\python\\python37\\lib\\site-packages (from sentence-transformers) (0.14.1)\n",
      "Requirement already satisfied, skipping upgrade: tokenizers!=0.11.3,<0.14,>=0.11.1 in c:\\users\\augus\\appdata\\local\\programs\\python\\python37\\lib\\site-packages (from transformers<5.0.0,>=4.6.0->sentence-transformers) (0.13.3)\n",
      "Requirement already satisfied, skipping upgrade: filelock in c:\\users\\augus\\appdata\\local\\programs\\python\\python37\\lib\\site-packages (from transformers<5.0.0,>=4.6.0->sentence-transformers) (3.12.0)\n",
      "Requirement already satisfied, skipping upgrade: pyyaml>=5.1 in c:\\users\\augus\\appdata\\local\\programs\\python\\python37\\lib\\site-packages (from transformers<5.0.0,>=4.6.0->sentence-transformers) (6.0)\n",
      "Requirement already satisfied, skipping upgrade: importlib-metadata; python_version < \"3.8\" in c:\\users\\augus\\appdata\\local\\programs\\python\\python37\\lib\\site-packages (from transformers<5.0.0,>=4.6.0->sentence-transformers) (6.6.0)\n",
      "Requirement already satisfied, skipping upgrade: regex!=2019.12.17 in c:\\users\\augus\\appdata\\local\\programs\\python\\python37\\lib\\site-packages (from transformers<5.0.0,>=4.6.0->sentence-transformers) (2023.5.5)\n",
      "Requirement already satisfied, skipping upgrade: packaging>=20.0 in c:\\users\\augus\\appdata\\local\\programs\\python\\python37\\lib\\site-packages (from transformers<5.0.0,>=4.6.0->sentence-transformers) (23.1)\n",
      "Requirement already satisfied, skipping upgrade: requests in c:\\users\\augus\\appdata\\local\\programs\\python\\python37\\lib\\site-packages (from transformers<5.0.0,>=4.6.0->sentence-transformers) (2.29.0)\n",
      "Requirement already satisfied, skipping upgrade: colorama; platform_system == \"Windows\" in c:\\users\\augus\\appdata\\roaming\\python\\python37\\site-packages (from tqdm->sentence-transformers) (0.4.1)\n",
      "Requirement already satisfied, skipping upgrade: typing-extensions in c:\\users\\augus\\appdata\\local\\programs\\python\\python37\\lib\\site-packages (from torch>=1.6.0->sentence-transformers) (4.5.0)\n",
      "Requirement already satisfied, skipping upgrade: pillow!=8.3.*,>=5.3.0 in c:\\users\\augus\\appdata\\local\\programs\\python\\python37\\lib\\site-packages (from torchvision->sentence-transformers) (9.5.0)\n",
      "Requirement already satisfied, skipping upgrade: joblib>=0.11 in c:\\users\\augus\\appdata\\local\\programs\\python\\python37\\lib\\site-packages (from scikit-learn->sentence-transformers) (1.2.0)\n",
      "Requirement already satisfied, skipping upgrade: threadpoolctl>=2.0.0 in c:\\users\\augus\\appdata\\local\\programs\\python\\python37\\lib\\site-packages (from scikit-learn->sentence-transformers) (3.1.0)\n",
      "Requirement already satisfied, skipping upgrade: click in c:\\users\\augus\\appdata\\local\\programs\\python\\python37\\lib\\site-packages (from nltk->sentence-transformers) (8.1.3)\n",
      "Requirement already satisfied, skipping upgrade: fsspec in c:\\users\\augus\\appdata\\local\\programs\\python\\python37\\lib\\site-packages (from huggingface-hub>=0.4.0->sentence-transformers) (2023.1.0)\n",
      "Requirement already satisfied, skipping upgrade: zipp>=0.5 in c:\\users\\augus\\appdata\\local\\programs\\python\\python37\\lib\\site-packages (from importlib-metadata; python_version < \"3.8\"->transformers<5.0.0,>=4.6.0->sentence-transformers) (3.15.0)\n",
      "Requirement already satisfied, skipping upgrade: certifi>=2017.4.17 in c:\\users\\augus\\appdata\\local\\programs\\python\\python37\\lib\\site-packages (from requests->transformers<5.0.0,>=4.6.0->sentence-transformers) (2022.12.7)\n",
      "Requirement already satisfied, skipping upgrade: urllib3<1.27,>=1.21.1 in c:\\users\\augus\\appdata\\local\\programs\\python\\python37\\lib\\site-packages (from requests->transformers<5.0.0,>=4.6.0->sentence-transformers) (1.26.15)\n",
      "Requirement already satisfied, skipping upgrade: idna<4,>=2.5 in c:\\users\\augus\\appdata\\local\\programs\\python\\python37\\lib\\site-packages (from requests->transformers<5.0.0,>=4.6.0->sentence-transformers) (3.4)\n",
      "Requirement already satisfied, skipping upgrade: charset-normalizer<4,>=2 in c:\\users\\augus\\appdata\\local\\programs\\python\\python37\\lib\\site-packages (from requests->transformers<5.0.0,>=4.6.0->sentence-transformers) (3.1.0)\n"
     ]
    },
    {
     "name": "stderr",
     "output_type": "stream",
     "text": [
      "WARNING: You are using pip version 20.1.1; however, version 23.2.1 is available.\n",
      "You should consider upgrading via the 'c:\\Users\\augus\\AppData\\Local\\Programs\\Python\\Python37\\python.exe -m pip install --upgrade pip' command.\n",
      "c:\\Users\\augus\\AppData\\Local\\Programs\\Python\\Python37\\lib\\site-packages\\tqdm\\auto.py:21: TqdmWarning: IProgress not found. Please update jupyter and ipywidgets. See https://ipywidgets.readthedocs.io/en/stable/user_install.html\n",
      "  from .autonotebook import tqdm as notebook_tqdm\n"
     ]
    }
   ],
   "source": [
    "# Install a pip package in the current Jupyter kernel\n",
    "import sys\n",
    "!{sys.executable} -m pip install -U sentence-transformers\n",
    "\n",
    "import pandas as pd\n",
    "import numpy as np\n",
    "import random\n",
    "from sentence_transformers import SentenceTransformer, util"
   ]
  },
  {
   "attachments": {},
   "cell_type": "markdown",
   "metadata": {},
   "source": [
    "# PETFINDER"
   ]
  },
  {
   "cell_type": "code",
   "execution_count": 5,
   "metadata": {},
   "outputs": [],
   "source": [
    "# Generate synthetic data\n",
    "np.random.seed(0)\n",
    "num_samples = 100\n",
    "\n",
    "#np.random.rand -> uniform distribution over [0, 1).\n",
    "numerical_A = np.random.rand(num_samples) * 1000\n",
    "numerical_B = np.random.rand(num_samples) * 5\n",
    "categorical_C = np.random.choice(['Category_A', 'Category_B', 'Category_C'], num_samples)\n",
    "\n",
    "random_numerical_1 = np.random.rand(num_samples) * 10\n",
    "random_numerical_2 = np.random.rand(num_samples) * 7\n",
    "random_numerical_3 = np.random.rand(num_samples) * 3"
   ]
  },
  {
   "cell_type": "code",
   "execution_count": 6,
   "metadata": {},
   "outputs": [],
   "source": [
    "def generate_good_review():\n",
    "    good_adjectives = [\"amazing\", \"outstanding\", \"excellent\", \"fantastic\", \"impressive\", \"perfect\"]\n",
    "    product_features = [\"quality\", \"design\", \"functionality\", \"performance\", \"durability\", \"effectiveness\"]\n",
    "    product_name = \"Product X\"  # Replace with the actual product name\n",
    "    \n",
    "    adjective = random.choice(good_adjectives)\n",
    "    feature = random.choice(product_features)\n",
    "    \n",
    "    review = f\"I absolutely love {product_name}! It's {adjective} and the {feature} is top-notch.\"\n",
    "    return review\n",
    "\n",
    "def generate_bad_review():\n",
    "    bad_adjectives = [\"disappointing\", \"poorly made\", \"subpar\", \"not effective\", \"low-quality\", \"overpriced\"]\n",
    "    product_name = \"Product Y\"  # Replace with the actual product name\n",
    "    \n",
    "    adjective = random.choice(bad_adjectives)\n",
    "    \n",
    "    review = f\"I'm really disappointed with {product_name}. It's {adjective} and doesn't live up to the expectations.\"\n",
    "    return review\n",
    "\n",
    "# Create a list of reviews\n",
    "good_reviews = [generate_good_review() for _ in range(num_samples // 2)]\n",
    "bad_reviews = [generate_bad_review() for _ in range(num_samples // 2)]\n",
    "\n",
    "# Combine the reviews\n",
    "all_reviews = good_reviews + bad_reviews\n",
    "\n",
    "# Shuffle the reviews to ensure randomness\n",
    "random.shuffle(all_reviews)"
   ]
  },
  {
   "cell_type": "code",
   "execution_count": 7,
   "metadata": {},
   "outputs": [
    {
     "data": {
      "text/html": [
       "<div>\n",
       "<style scoped>\n",
       "    .dataframe tbody tr th:only-of-type {\n",
       "        vertical-align: middle;\n",
       "    }\n",
       "\n",
       "    .dataframe tbody tr th {\n",
       "        vertical-align: top;\n",
       "    }\n",
       "\n",
       "    .dataframe thead th {\n",
       "        text-align: right;\n",
       "    }\n",
       "</style>\n",
       "<table border=\"1\" class=\"dataframe\">\n",
       "  <thead>\n",
       "    <tr style=\"text-align: right;\">\n",
       "      <th></th>\n",
       "      <th>Numerical_A</th>\n",
       "      <th>Numerical_B</th>\n",
       "      <th>Categorical_C</th>\n",
       "      <th>Categorical_D</th>\n",
       "      <th>Text_E</th>\n",
       "      <th>Random_Numerical_1</th>\n",
       "      <th>Random_Numerical_2</th>\n",
       "      <th>Random_Numerical_3</th>\n",
       "    </tr>\n",
       "  </thead>\n",
       "  <tbody>\n",
       "    <tr>\n",
       "      <th>0</th>\n",
       "      <td>5.488135</td>\n",
       "      <td>3.389083</td>\n",
       "      <td>Category_C</td>\n",
       "      <td>Type_X</td>\n",
       "      <td>I absolutely love Product X! It's amazing and ...</td>\n",
       "      <td>2.488807</td>\n",
       "      <td>3.437173</td>\n",
       "      <td>1.278055</td>\n",
       "    </tr>\n",
       "    <tr>\n",
       "      <th>1</th>\n",
       "      <td>7.151894</td>\n",
       "      <td>1.350040</td>\n",
       "      <td>Category_C</td>\n",
       "      <td>Type_Y</td>\n",
       "      <td>I absolutely love Product X! It's fantastic an...</td>\n",
       "      <td>1.137101</td>\n",
       "      <td>6.871478</td>\n",
       "      <td>1.096723</td>\n",
       "    </tr>\n",
       "    <tr>\n",
       "      <th>2</th>\n",
       "      <td>6.027634</td>\n",
       "      <td>3.675970</td>\n",
       "      <td>Category_A</td>\n",
       "      <td>Type_Y</td>\n",
       "      <td>I'm really disappointed with Product Y. It's o...</td>\n",
       "      <td>0.289649</td>\n",
       "      <td>1.712560</td>\n",
       "      <td>0.545366</td>\n",
       "    </tr>\n",
       "    <tr>\n",
       "      <th>3</th>\n",
       "      <td>5.448832</td>\n",
       "      <td>4.810943</td>\n",
       "      <td>Category_B</td>\n",
       "      <td>Type_X</td>\n",
       "      <td>I absolutely love Product X! It's fantastic an...</td>\n",
       "      <td>0.768419</td>\n",
       "      <td>2.620262</td>\n",
       "      <td>0.296537</td>\n",
       "    </tr>\n",
       "    <tr>\n",
       "      <th>4</th>\n",
       "      <td>4.236548</td>\n",
       "      <td>1.243766</td>\n",
       "      <td>Category_B</td>\n",
       "      <td>Type_Y</td>\n",
       "      <td>I'm really disappointed with Product Y. It's l...</td>\n",
       "      <td>1.775805</td>\n",
       "      <td>0.319617</td>\n",
       "      <td>1.712606</td>\n",
       "    </tr>\n",
       "  </tbody>\n",
       "</table>\n",
       "</div>"
      ],
      "text/plain": [
       "   Numerical_A  Numerical_B Categorical_C Categorical_D  \\\n",
       "0     5.488135     3.389083    Category_C        Type_X   \n",
       "1     7.151894     1.350040    Category_C        Type_Y   \n",
       "2     6.027634     3.675970    Category_A        Type_Y   \n",
       "3     5.448832     4.810943    Category_B        Type_X   \n",
       "4     4.236548     1.243766    Category_B        Type_Y   \n",
       "\n",
       "                                              Text_E  Random_Numerical_1  \\\n",
       "0  I absolutely love Product X! It's amazing and ...            2.488807   \n",
       "1  I absolutely love Product X! It's fantastic an...            1.137101   \n",
       "2  I'm really disappointed with Product Y. It's o...            0.289649   \n",
       "3  I absolutely love Product X! It's fantastic an...            0.768419   \n",
       "4  I'm really disappointed with Product Y. It's l...            1.775805   \n",
       "\n",
       "   Random_Numerical_2  Random_Numerical_3  \n",
       "0            3.437173            1.278055  \n",
       "1            6.871478            1.096723  \n",
       "2            1.712560            0.545366  \n",
       "3            2.620262            0.296537  \n",
       "4            0.319617            1.712606  "
      ]
     },
     "execution_count": 7,
     "metadata": {},
     "output_type": "execute_result"
    }
   ],
   "source": [
    "def is_good_review(review):\n",
    "    good_adjectives = [\"amazing\", \"outstanding\", \"excellent\", \"fantastic\", \"impressive\", \"perfect\"]\n",
    "    for good in good_adjectives:\n",
    "        if good in review:\n",
    "            return True\n",
    "    return False\n",
    "\n",
    "df = pd.DataFrame({\n",
    "    'Numerical_A': numerical_A,\n",
    "    'Numerical_B': numerical_B,\n",
    "    'Categorical_C': categorical_C,\n",
    "    'Text_E': all_reviews,\n",
    "    'Random_Numerical_1': random_numerical_1,\n",
    "    'Random_Numerical_2': random_numerical_2,\n",
    "    'Random_Numerical_3': random_numerical_3\n",
    "    })\n",
    "df.head()"
   ]
  },
  {
   "cell_type": "code",
   "execution_count": 8,
   "metadata": {},
   "outputs": [
    {
     "data": {
      "text/plain": [
       "\"I absolutely love Product X! It's amazing and the durability is top-notch.\""
      ]
     },
     "execution_count": 8,
     "metadata": {},
     "output_type": "execute_result"
    }
   ],
   "source": [
    "df.iloc[0][3]"
   ]
  },
  {
   "cell_type": "code",
   "execution_count": 11,
   "metadata": {},
   "outputs": [
    {
     "data": {
      "text/plain": [
       "False"
      ]
     },
     "execution_count": 11,
     "metadata": {},
     "output_type": "execute_result"
    }
   ],
   "source": [
    "is_good_review(df.iloc[2][3])"
   ]
  },
  {
   "cell_type": "code",
   "execution_count": 17,
   "metadata": {},
   "outputs": [],
   "source": [
    "def create_target(df):\n",
    "    arr = []\n",
    "    for i in range(len(df)):\n",
    "        x = df.iloc[0]\n",
    "        target = x[0]>850 or (is_good_review(x[3]) and x[0]>400) or ((x[1]>2 and x[3] == 'Category_A') or (x[3]!='Category_A' and x[1]>4 and x[0]>300))\n",
    "        arr[i] = target\n",
    "    return arr"
   ]
  },
  {
   "cell_type": "code",
   "execution_count": null,
   "metadata": {},
   "outputs": [],
   "source": [
    "targets = create_target()"
   ]
  }
 ],
 "metadata": {
  "kernelspec": {
   "display_name": "Python 3",
   "language": "python",
   "name": "python3"
  },
  "language_info": {
   "codemirror_mode": {
    "name": "ipython",
    "version": 3
   },
   "file_extension": ".py",
   "mimetype": "text/x-python",
   "name": "python",
   "nbconvert_exporter": "python",
   "pygments_lexer": "ipython3",
   "version": "3.7.9"
  },
  "orig_nbformat": 4
 },
 "nbformat": 4,
 "nbformat_minor": 2
}
